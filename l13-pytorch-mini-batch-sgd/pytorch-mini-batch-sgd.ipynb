{
 "cells": [
  {
   "cell_type": "markdown",
   "metadata": {},
   "source": [
    "# Mini-batch stochastic gradient descent"
   ]
  },
  {
   "cell_type": "code",
   "execution_count": null,
   "metadata": {},
   "outputs": [],
   "source": [
    "import torch\n",
    "import torchvision"
   ]
  },
  {
   "cell_type": "markdown",
   "metadata": {},
   "source": [
    "## Hyperparameters"
   ]
  },
  {
   "cell_type": "code",
   "execution_count": null,
   "metadata": {},
   "outputs": [],
   "source": [
    "# Mini-batch SGD parameters\n",
    "batch_size = 32\n",
    "num_epochs = 4\n",
    "learning_rate = 0.1"
   ]
  },
  {
   "cell_type": "markdown",
   "metadata": {},
   "source": [
    "## 1. Prepare data"
   ]
  },
  {
   "cell_type": "code",
   "execution_count": null,
   "metadata": {},
   "outputs": [],
   "source": [
    "# !ls ../data\n",
    "data_directory_path = '../data/'"
   ]
  },
  {
   "cell_type": "code",
   "execution_count": null,
   "metadata": {},
   "outputs": [],
   "source": [
    "# Create data loaders\n",
    "\n",
    "mnist_transforms = torchvision.transforms.Compose(\n",
    "    [\n",
    "        torchvision.transforms.ToTensor(),\n",
    "        torchvision.transforms.Normalize((0.1307,), (0.3081,)),\n",
    "    ]\n",
    ")\n",
    "\n",
    "# Training data loader\n",
    "train_dataset = torchvision.datasets.MNIST(\n",
    "    root=data_directory_path, train=True, download=True, transform=mnist_transforms\n",
    ")\n",
    "\n",
    "train_loader = torch.utils.data.DataLoader(\n",
    "    train_dataset, batch_size=batch_size, shuffle=True\n",
    ")\n",
    "\n",
    "# Validation data loader\n",
    "valid_dataset = torchvision.datasets.MNIST(\n",
    "    root=data_directory_path, train=False, download=True, transform=mnist_transforms\n",
    ")\n",
    "\n",
    "valid_loader = torch.utils.data.DataLoader(\n",
    "    valid_dataset, batch_size=len(valid_dataset), shuffle=True\n",
    ")"
   ]
  },
  {
   "cell_type": "code",
   "execution_count": null,
   "metadata": {},
   "outputs": [],
   "source": [
    "import matplotlib.pyplot as plt\n",
    "\n",
    "for something in train_loader:\n",
    "#     print(something)\n",
    "#     print(len(something))\n",
    "#     print(something[0].shape, something[1].shape)\n",
    "#     print(something[0][0].shape)\n",
    "#     print(something[0][0].squeeze().shape)\n",
    "    plt.imshow(something[0][0].squeeze())\n",
    "    plt.title(something[1][0].item(), fontsize=32)\n",
    "    break"
   ]
  },
  {
   "cell_type": "markdown",
   "metadata": {},
   "source": [
    "## 2. Create a neural network"
   ]
  },
  {
   "cell_type": "code",
   "execution_count": null,
   "metadata": {},
   "outputs": [],
   "source": [
    "nx = 28 *28\n",
    "ny = 10\n",
    "model = torch.nn.Sequential(torch.nn.Linear(in_features=nx, out_features=ny))"
   ]
  },
  {
   "cell_type": "markdown",
   "metadata": {},
   "source": [
    "## 3. Create the loss function"
   ]
  },
  {
   "cell_type": "code",
   "execution_count": null,
   "metadata": {},
   "outputs": [],
   "source": [
    "loss = torch.nn.CrossEntropyLoss()"
   ]
  },
  {
   "cell_type": "markdown",
   "metadata": {},
   "source": [
    "## 4. Implement mini-batch stochastic gradient descent"
   ]
  },
  {
   "cell_type": "code",
   "execution_count": null,
   "metadata": {},
   "outputs": [],
   "source": [
    "for epoch in range(num_epochs):\n",
    "    \n",
    "    # Set model to training mode\n",
    "    model.train()\n",
    "    \n",
    "    # Update the model for each batch\n",
    "    train_count = 0\n",
    "    train_cost = 0\n",
    "    for X, y in train_loader:\n",
    "        \n",
    "        # Compute model cost\n",
    "        yhat = model(X.view(-1, nx))\n",
    "        cost = loss(yhat, y)\n",
    "        \n",
    "        # Compute gradients\n",
    "        model.zero_grad()\n",
    "        cost.backward()\n",
    "        \n",
    "        # Update parameters\n",
    "        with torch.no_grad():\n",
    "            for param in model.parameters():\n",
    "                param -= learning_rate * param.grad\n",
    "        \n",
    "        train_count += X.shape[0]\n",
    "        train_cost += cost.item()\n",
    "\n",
    "    # Set model to evaluation mode\n",
    "    model.eval()\n",
    "    \n",
    "    # Test model on validation data\n",
    "    valid_count = 0\n",
    "    valid_cost = 0\n",
    "    valid_correct = 0\n",
    "    with torch.no_grad():\n",
    "        for X, y in valid_loader:\n",
    "\n",
    "            # Compute model cost\n",
    "            yhat = model(X.view(-1, nx))\n",
    "            cost = loss(yhat, y)\n",
    "            \n",
    "            # Convert model output into discrete predictions\n",
    "            predictions = yhat.argmax(dim=1, keepdim=True)\n",
    "            \n",
    "            # Compute number correct\n",
    "            correct = predictions.eq(y.view_as(predictions)).double().sum().item()\n",
    "            \n",
    "            valid_count += X.shape[0]\n",
    "            valid_cost += cost.item()\n",
    "            valid_correct += correct\n",
    "            \n",
    "    train_cost /= train_count\n",
    "    valid_cost /= valid_count\n",
    "    valid_accuracy = valid_correct / valid_count\n",
    "    \n",
    "    print(epoch, train_cost, valid_cost, valid_accuracy)\n",
    "\n",
    "print('Done.')"
   ]
  },
  {
   "cell_type": "code",
   "execution_count": null,
   "metadata": {},
   "outputs": [],
   "source": []
  },
  {
   "cell_type": "code",
   "execution_count": null,
   "metadata": {},
   "outputs": [],
   "source": []
  }
 ],
 "metadata": {
  "kernelspec": {
   "display_name": "Python 3",
   "language": "python",
   "name": "python3"
  },
  "language_info": {
   "codemirror_mode": {
    "name": "ipython",
    "version": 3
   },
   "file_extension": ".py",
   "mimetype": "text/x-python",
   "name": "python",
   "nbconvert_exporter": "python",
   "pygments_lexer": "ipython3",
   "version": "3.8.5"
  }
 },
 "nbformat": 4,
 "nbformat_minor": 4
}
