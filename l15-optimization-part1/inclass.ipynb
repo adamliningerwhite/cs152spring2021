{
 "cells": [
  {
   "cell_type": "code",
   "execution_count": 1,
   "metadata": {},
   "outputs": [],
   "source": [
    "import matplotlib.pyplot as plt\n",
    "import torch"
   ]
  },
  {
   "cell_type": "code",
   "execution_count": 14,
   "metadata": {},
   "outputs": [],
   "source": [
    "# What values for theta1 and theta2 will return the smallest possible value?\n",
    "\n",
    "def stretched_bowl_loss_function(theta1, theta2):\n",
    "    return (0.1 * theta1 ** 2) + (2 * theta2 ** 2)"
   ]
  },
  {
   "cell_type": "code",
   "execution_count": 15,
   "metadata": {},
   "outputs": [
    {
     "data": {
      "text/plain": [
       "(tensor([[-4.0000, -4.0000, -4.0000,  ..., -4.0000, -4.0000, -4.0000],\n",
       "         [-3.9192, -3.9192, -3.9192,  ..., -3.9192, -3.9192, -3.9192],\n",
       "         [-3.8384, -3.8384, -3.8384,  ..., -3.8384, -3.8384, -3.8384],\n",
       "         ...,\n",
       "         [ 3.8384,  3.8384,  3.8384,  ...,  3.8384,  3.8384,  3.8384],\n",
       "         [ 3.9192,  3.9192,  3.9192,  ...,  3.9192,  3.9192,  3.9192],\n",
       "         [ 4.0000,  4.0000,  4.0000,  ...,  4.0000,  4.0000,  4.0000]]),\n",
       " tensor([[-4.0000, -3.9192, -3.8384,  ...,  3.8384,  3.9192,  4.0000],\n",
       "         [-4.0000, -3.9192, -3.8384,  ...,  3.8384,  3.9192,  4.0000],\n",
       "         [-4.0000, -3.9192, -3.8384,  ...,  3.8384,  3.9192,  4.0000],\n",
       "         ...,\n",
       "         [-4.0000, -3.9192, -3.8384,  ...,  3.8384,  3.9192,  4.0000],\n",
       "         [-4.0000, -3.9192, -3.8384,  ...,  3.8384,  3.9192,  4.0000],\n",
       "         [-4.0000, -3.9192, -3.8384,  ...,  3.8384,  3.9192,  4.0000]]))"
      ]
     },
     "execution_count": 15,
     "metadata": {},
     "output_type": "execute_result"
    }
   ],
   "source": [
    "theta1_list = torch.linspace(-4, 4, 100)\n",
    "theta2_list = torch.linspace(-4, 4, 100)\n",
    "\n",
    "theta1_grid, theta2_grid = torch.meshgrid(theta1_list, theta2_list)\n",
    "theta1_grid, theta2_grid"
   ]
  },
  {
   "cell_type": "code",
   "execution_count": 18,
   "metadata": {},
   "outputs": [
    {
     "data": {
      "text/plain": [
       "<matplotlib.colorbar.Colorbar at 0x7fc569becb20>"
      ]
     },
     "execution_count": 18,
     "metadata": {},
     "output_type": "execute_result"
    },
    {
     "data": {
      "image/png": "[encoded data removed]",
      "text/plain": [
       "<Figure size 432x288 with 2 Axes>"
      ]
     },
     "metadata": {
      "needs_background": "light"
     },
     "output_type": "display_data"
    }
   ],
   "source": [
    "stretched_bowl_values = stretched_bowl_loss_function(theta1_grid, theta2_grid)\n",
    "\n",
    "\n",
    "cplot = plt.contourf(theta1_grid, theta2_grid, stretched_bowl_values);\n",
    "plt.colorbar(cplot);"
   ]
  },
  {
   "cell_type": "code",
   "execution_count": 36,
   "metadata": {},
   "outputs": [
    {
     "name": "stdout",
     "output_type": "stream",
     "text": [
      "18.899999618530273 tensor([3., 3.], requires_grad=True)\n",
      "18.729000091552734 tensor([ 2.7000, -3.0000], requires_grad=True)\n",
      "18.590490341186523 tensor([2.4300, 3.0000], requires_grad=True)\n",
      "18.478296279907227 tensor([ 2.1870, -3.0000], requires_grad=True)\n",
      "18.387420654296875 tensor([1.9683, 3.0000], requires_grad=True)\n",
      "18.313810348510742 tensor([ 1.7715, -3.0000], requires_grad=True)\n",
      "18.254186630249023 tensor([1.5943, 3.0000], requires_grad=True)\n",
      "18.205890655517578 tensor([ 1.4349, -3.0000], requires_grad=True)\n",
      "18.166770935058594 tensor([1.2914, 3.0000], requires_grad=True)\n",
      "18.135086059570312 tensor([ 1.1623, -3.0000], requires_grad=True)\n",
      "18.109418869018555 tensor([1.0460, 3.0000], requires_grad=True)\n",
      "18.0886287689209 tensor([ 0.9414, -3.0000], requires_grad=True)\n",
      "18.07179069519043 tensor([0.8473, 3.0000], requires_grad=True)\n",
      "18.058149337768555 tensor([ 0.7626, -3.0000], requires_grad=True)\n",
      "18.047101974487305 tensor([0.6863, 3.0000], requires_grad=True)\n",
      "18.03815269470215 tensor([ 0.6177, -3.0000], requires_grad=True)\n",
      "18.030902862548828 tensor([0.5559, 3.0000], requires_grad=True)\n",
      "18.02503204345703 tensor([ 0.5003, -3.0000], requires_grad=True)\n",
      "18.020275115966797 tensor([0.4503, 3.0000], requires_grad=True)\n",
      "18.016422271728516 tensor([ 0.4053, -3.0000], requires_grad=True)\n"
     ]
    }
   ],
   "source": [
    "# Gradient descent\n",
    "\n",
    "# Hyperparameters\n",
    "learning_rate = 0.5\n",
    "num_epochs = 20\n",
    "\n",
    "theta = torch.tensor([3.0, 3.0], requires_grad=True)\n",
    "\n",
    "thistory = [theta.detach().clone()]\n",
    "\n",
    "for epoch in range(num_epochs):\n",
    "    \n",
    "    # We don't have any model\n",
    "    \n",
    "    # Compute loss\n",
    "    loss = stretched_bowl_loss_function(theta[0], theta[1])\n",
    "    \n",
    "    # Compute gradients\n",
    "    theta.grad = None\n",
    "    loss.backward()\n",
    "    \n",
    "    print(loss.item(), theta)\n",
    "    \n",
    "    # Update parameters\n",
    "    with torch.no_grad():\n",
    "        theta -= learning_rate * theta.grad\n",
    "    \n",
    "    thistory.append(theta.detach().clone())"
   ]
  },
  {
   "cell_type": "code",
   "execution_count": 37,
   "metadata": {},
   "outputs": [
    {
     "data": {
      "image/png": "[encoded data removed]",
      "text/plain": [
       "<Figure size 432x288 with 2 Axes>"
      ]
     },
     "metadata": {
      "needs_background": "light"
     },
     "output_type": "display_data"
    }
   ],
   "source": [
    "cplot = plt.contourf(theta1_grid, theta2_grid, stretched_bowl_values);\n",
    "plt.colorbar(cplot);\n",
    "\n",
    "x1 = [p[0].item() for p in thistory]\n",
    "x2 = [p[1].item() for p in thistory]\n",
    "\n",
    "plt.plot(x1, x2, color='red', marker='o', markersize=10);"
   ]
  },
  {
   "cell_type": "code",
   "execution_count": 21,
   "metadata": {},
   "outputs": [],
   "source": [
    "theta = torch.tensor([3.0, 3.0], requires_grad=True)"
   ]
  },
  {
   "cell_type": "code",
   "execution_count": 22,
   "metadata": {},
   "outputs": [
    {
     "data": {
      "text/plain": [
       "tensor([3., 3.], requires_grad=True)"
      ]
     },
     "execution_count": 22,
     "metadata": {},
     "output_type": "execute_result"
    }
   ],
   "source": [
    "theta"
   ]
  },
  {
   "cell_type": "code",
   "execution_count": 23,
   "metadata": {},
   "outputs": [
    {
     "data": {
      "text/plain": [
       "tensor([0.3204, 0.5048])"
      ]
     },
     "execution_count": 23,
     "metadata": {},
     "output_type": "execute_result"
    }
   ],
   "source": [
    "torch.rand(2)"
   ]
  },
  {
   "cell_type": "code",
   "execution_count": null,
   "metadata": {},
   "outputs": [],
   "source": []
  },
  {
   "cell_type": "code",
   "execution_count": null,
   "metadata": {},
   "outputs": [],
   "source": []
  },
  {
   "cell_type": "code",
   "execution_count": null,
   "metadata": {},
   "outputs": [],
   "source": []
  },
  {
   "cell_type": "code",
   "execution_count": null,
   "metadata": {},
   "outputs": [],
   "source": []
  },
  {
   "cell_type": "code",
   "execution_count": null,
   "metadata": {},
   "outputs": [],
   "source": []
  },
  {
   "cell_type": "code",
   "execution_count": null,
   "metadata": {},
   "outputs": [],
   "source": []
  },
  {
   "cell_type": "code",
   "execution_count": null,
   "metadata": {},
   "outputs": [],
   "source": []
  },
  {
   "cell_type": "code",
   "execution_count": null,
   "metadata": {},
   "outputs": [],
   "source": []
  },
  {
   "cell_type": "code",
   "execution_count": null,
   "metadata": {},
   "outputs": [],
   "source": []
  }
 ],
 "metadata": {
  "kernelspec": {
   "display_name": "Python 3",
   "language": "python",
   "name": "python3"
  },
  "language_info": {
   "codemirror_mode": {
    "name": "ipython",
    "version": 3
   },
   "file_extension": ".py",
   "mimetype": "text/x-python",
   "name": "python",
   "nbconvert_exporter": "python",
   "pygments_lexer": "ipython3",
   "version": "3.8.5"
  }
 },
 "nbformat": 4,
 "nbformat_minor": 4
}
