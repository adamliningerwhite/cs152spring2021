{
 "cells": [
  {
   "cell_type": "markdown",
   "metadata": {},
   "source": [
    "[PyTorch CIFAR10 Tutorial](https://pytorch.org/tutorials/beginner/blitz/cifar10_tutorial.html)"
   ]
  },
  {
   "cell_type": "code",
   "execution_count": null,
   "metadata": {},
   "outputs": [],
   "source": [
    "import matplotlib.pyplot as plt\n",
    "import numpy as np\n",
    "\n",
    "import torch\n",
    "from torch import nn, optim\n",
    "\n",
    "import torchvision\n",
    "from torchvision import models\n",
    "from torchvision.datasets import CIFAR10\n",
    "from torchvision.transforms import Compose, transforms"
   ]
  },
  {
   "cell_type": "code",
   "execution_count": null,
   "metadata": {},
   "outputs": [],
   "source": [
    "batch_size = 64\n",
    "num_epochs = 2\n",
    "dropout_rate = 0.15"
   ]
  },
  {
   "cell_type": "code",
   "execution_count": null,
   "metadata": {},
   "outputs": [],
   "source": [
    "data_directory_path = \"../data/\"\n",
    "\n",
    "cifar10_transforms = Compose(\n",
    "    [transforms.ToTensor(), transforms.Normalize((0.5, 0.5, 0.5), (0.5, 0.5, 0.5))]\n",
    ")\n",
    "\n",
    "# Training data loader\n",
    "train_dataset = CIFAR10(\n",
    "    root=data_directory_path, train=True, download=True, transform=cifar10_transforms\n",
    ")\n",
    "\n",
    "train_loader = torch.utils.data.DataLoader(\n",
    "    train_dataset, batch_size=batch_size, shuffle=True\n",
    ")\n",
    "\n",
    "# Validation data loader\n",
    "valid_dataset = CIFAR10(\n",
    "    root=data_directory_path, train=False, download=True, transform=cifar10_transforms\n",
    ")\n",
    "\n",
    "valid_loader = torch.utils.data.DataLoader(\n",
    "    valid_dataset, batch_size=len(valid_dataset), shuffle=True\n",
    ")\n",
    "\n",
    "classes = (\n",
    "    \"plane\",\n",
    "    \"car\",\n",
    "    \"bird\",\n",
    "    \"cat\",\n",
    "    \"deer\",\n",
    "    \"dog\",\n",
    "    \"frog\",\n",
    "    \"horse\",\n",
    "    \"ship\",\n",
    "    \"truck\",\n",
    ")\n",
    "\n",
    "train_dataset.data.shape, valid_dataset.data.shape"
   ]
  },
  {
   "cell_type": "code",
   "execution_count": null,
   "metadata": {},
   "outputs": [],
   "source": [
    "def imshow(img):\n",
    "    # Unnormalize the image\n",
    "    img = img / 2 + 0.5\n",
    "    npimg = img.numpy()\n",
    "\n",
    "    # Matplotlib expects images to be height by width by color\n",
    "    axis.imshow(np.transpose(npimg, (1, 2, 0)))\n",
    "\n",
    "\n",
    "_, axis = plt.subplots(figsize=(16, 16))\n",
    "\n",
    "# Grab a batch of images and labels\n",
    "images, labels = next(iter(train_loader))\n",
    "imshow(torchvision.utils.make_grid(images))\n",
    "\n",
    "label_names = [f\"{classes[label]:>10}\" for label in labels]\n",
    "images_per_row = int(np.sqrt(batch_size))\n",
    "for row in range(images_per_row):\n",
    "    start_index = row * images_per_row\n",
    "    print(\" \".join(label_names[start_index:start_index+images_per_row]))"
   ]
  },
  {
   "cell_type": "code",
   "execution_count": null,
   "metadata": {},
   "outputs": [],
   "source": [
    "images.shape, labels.shape"
   ]
  },
  {
   "cell_type": "code",
   "execution_count": null,
   "metadata": {},
   "outputs": [],
   "source": [
    "# model = nn.Sequential(nn.Flatten(), nn.Linear(3*32*32, 10))\n",
    "\n",
    "# model = nn.Sequential(\n",
    "#     nn.Flatten(), nn.Linear(3 * 32 * 32, 100), nn.ReLU(), nn.Linear(100, 10)\n",
    "# )\n",
    "\n",
    "# model = nn.Sequential(\n",
    "#     nn.Flatten(),\n",
    "#     nn.Linear(3 * 32 * 32, 100),\n",
    "#     nn.ReLU(),\n",
    "#     nn.Linear(100, 10),\n",
    "# )\n",
    "\n",
    "model = nn.Sequential(\n",
    "    nn.Conv2d(3, 6, 5),\n",
    "    nn.ReLU(),\n",
    "    nn.MaxPool2d(2, 2),\n",
    "    nn.Conv2d(6, 16, 5),\n",
    "    nn.ReLU(),\n",
    "    nn.MaxPool2d(2, 2),\n",
    "    nn.Flatten(),\n",
    "    nn.Linear(16 * 5 * 5, 120),\n",
    "    nn.ReLU(),\n",
    "    nn.Linear(120, 84),\n",
    "    nn.ReLU(),\n",
    "    nn.Linear(84, 10),\n",
    ")\n",
    "\n",
    "model = models.resnet18()"
   ]
  },
  {
   "cell_type": "code",
   "execution_count": null,
   "metadata": {},
   "outputs": [],
   "source": [
    "criterion = nn.CrossEntropyLoss()\n",
    "optimizer = optim.Adam(model.parameters())"
   ]
  },
  {
   "cell_type": "code",
   "execution_count": null,
   "metadata": {},
   "outputs": [],
   "source": [
    "for epoch in range(num_epochs):\n",
    "\n",
    "    train_loss_total = 0.0\n",
    "\n",
    "    for images, labels in train_loader:\n",
    "\n",
    "        outputs = model(images)\n",
    "\n",
    "        optimizer.zero_grad()\n",
    "\n",
    "        loss = criterion(outputs, labels)\n",
    "\n",
    "        loss.backward()\n",
    "\n",
    "        optimizer.step()\n",
    "\n",
    "        train_loss_total += loss.item()\n",
    "\n",
    "    print(f\"Training loss at epoch {epoch}/{num_epochs}:\", train_loss_total)\n",
    "\n",
    "print(\"Finished Training\")"
   ]
  },
  {
   "cell_type": "code",
   "execution_count": null,
   "metadata": {},
   "outputs": [],
   "source": [
    "correct = 0\n",
    "total = 0\n",
    "\n",
    "class_correct = [0 for _ in classes]\n",
    "class_total = [0 for _ in classes]\n",
    "\n",
    "with torch.no_grad():\n",
    "\n",
    "    for images, labels in valid_loader:\n",
    "\n",
    "        outputs = model(images)\n",
    "\n",
    "        predictions = outputs.argmax(dim=1, keepdim=True)\n",
    "        \n",
    "        comparisons = predictions.eq(labels.view_as(predictions))\n",
    "        for comp, label in zip(comparisons, labels):\n",
    "            class_correct[label] += comp.item()\n",
    "            class_total[label] += 1\n",
    "\n",
    "        total += labels.shape[0]\n",
    "        correct += int(comparisons.double().sum().item())\n",
    "        \n",
    "accuracy = correct / total\n",
    "print(f\"Accuracy on validation set: {correct}/{total} = {accuracy*100:.2f}%\")\n",
    "\n",
    "for i, cls in enumerate(classes):\n",
    "    ccorrect = class_correct[i]\n",
    "    ctotal = class_total[i]\n",
    "    caccuracy = ccorrect / ctotal\n",
    "    print(f\"  Accuracy on {cls:>5} class: {ccorrect}/{ctotal} = {caccuracy*100:.2f}%\")"
   ]
  },
  {
   "cell_type": "code",
   "execution_count": null,
   "metadata": {},
   "outputs": [],
   "source": [
    "model"
   ]
  },
  {
   "cell_type": "code",
   "execution_count": null,
   "metadata": {},
   "outputs": [],
   "source": []
  }
 ],
 "metadata": {
  "kernelspec": {
   "display_name": "Python 3",
   "language": "python",
   "name": "python3"
  },
  "language_info": {
   "codemirror_mode": {
    "name": "ipython",
    "version": 3
   },
   "file_extension": ".py",
   "mimetype": "text/x-python",
   "name": "python",
   "nbconvert_exporter": "python",
   "pygments_lexer": "ipython3",
   "version": "3.8.5"
  }
 },
 "nbformat": 4,
 "nbformat_minor": 4
}
