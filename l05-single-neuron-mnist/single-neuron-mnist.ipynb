{
 "cells": [
  {
   "cell_type": "markdown",
   "metadata": {},
   "source": [
    "# Batch Gradient Descent With a Single Neuron\n",
    "\n",
    "*Tue Feb 9, Week 3, Lecture 5*\n",
    "\n",
    "## Why Python and why Jupyter Notebooks?\n",
    "\n",
    "- Python is not an ideal langauge for this\n",
    "- Jupyter is not an ideal environment for htis\n",
    "- They are the **best** we have (in my opinion)\n",
    "\n",
    "## Notes\n",
    "\n",
    "- In this example, I am not going to do fancy imports\n",
    "- I want you to see the layout of torch and torchvision"
   ]
  },
  {
   "cell_type": "markdown",
   "metadata": {},
   "source": [
    "![](2021-02-10-neuron-notes.jpg)"
   ]
  },
  {
   "cell_type": "code",
   "execution_count": 2,
   "metadata": {},
   "outputs": [],
   "source": [
    "import torch"
   ]
  },
  {
   "cell_type": "code",
   "execution_count": 3,
   "metadata": {},
   "outputs": [
    {
     "data": {
      "text/plain": [
       "tensor([0.6559, 0.6745, 0.1857, 0.4859, 0.5376])"
      ]
     },
     "execution_count": 3,
     "metadata": {},
     "output_type": "execute_result"
    }
   ],
   "source": [
    "torch.rand(5)"
   ]
  },
  {
   "cell_type": "code",
   "execution_count": 4,
   "metadata": {},
   "outputs": [
    {
     "data": {
      "text/plain": [
       "torch.Size([5])"
      ]
     },
     "execution_count": 4,
     "metadata": {},
     "output_type": "execute_result"
    }
   ],
   "source": [
    "torch.rand(5).shape"
   ]
  },
  {
   "cell_type": "code",
   "execution_count": 5,
   "metadata": {
    "scrolled": true
   },
   "outputs": [
    {
     "data": {
      "text/plain": [
       "tensor([[0.1421, 0.5651, 0.9997, 0.4379, 0.4822, 0.3612, 0.1041, 0.8134, 0.3114,\n",
       "         0.8174, 0.0240, 0.9058, 0.9473, 0.6067, 0.0686, 0.8540, 0.8425, 0.8095,\n",
       "         0.9894, 0.1818, 0.7425, 0.5337, 0.1459, 0.4457, 0.4607],\n",
       "        [0.2753, 0.2340, 0.7315, 0.1464, 0.4301, 0.5137, 0.9905, 0.5745, 0.4906,\n",
       "         0.3992, 0.1298, 0.0612, 0.8402, 0.7759, 0.0689, 0.6112, 0.9761, 0.5120,\n",
       "         0.8382, 0.7776, 0.4065, 0.6859, 0.0355, 0.2000, 0.6846],\n",
       "        [0.5492, 0.6795, 0.6323, 0.0183, 0.0458, 0.7647, 0.7858, 0.6501, 0.6114,\n",
       "         0.9406, 0.9842, 0.4090, 0.9772, 0.8922, 0.2913, 0.8323, 0.8534, 0.7647,\n",
       "         0.2822, 0.8802, 0.6291, 0.6481, 0.2886, 0.4884, 0.4803],\n",
       "        [0.4436, 0.2099, 0.2658, 0.2717, 0.8554, 0.1525, 0.2596, 0.5880, 0.2768,\n",
       "         0.1221, 0.2128, 0.9634, 0.6681, 0.4105, 0.3714, 0.4348, 0.7995, 0.2310,\n",
       "         0.7824, 0.5649, 0.3516, 0.5729, 0.9857, 0.5342, 0.8657],\n",
       "        [0.1338, 0.3549, 0.3703, 0.9325, 0.4786, 0.8093, 0.0243, 0.0857, 0.2218,\n",
       "         0.2280, 0.3257, 0.5299, 0.3643, 0.3890, 0.7709, 0.0316, 0.3537, 0.1287,\n",
       "         0.4414, 0.5122, 0.6066, 0.7719, 0.3511, 0.0507, 0.5763]])"
      ]
     },
     "execution_count": 5,
     "metadata": {},
     "output_type": "execute_result"
    }
   ],
   "source": [
    "torch.rand(5, 25)"
   ]
  },
  {
   "cell_type": "code",
   "execution_count": 6,
   "metadata": {},
   "outputs": [
    {
     "data": {
      "text/plain": [
       "torch.Size([5, 25])"
      ]
     },
     "execution_count": 6,
     "metadata": {},
     "output_type": "execute_result"
    }
   ],
   "source": [
    "torch.rand(5, 25).shape"
   ]
  },
  {
   "cell_type": "code",
   "execution_count": 7,
   "metadata": {},
   "outputs": [],
   "source": [
    "X = torch.rand(5, 12)\n",
    "Y = torch.rand(12, 16)"
   ]
  },
  {
   "cell_type": "code",
   "execution_count": 8,
   "metadata": {},
   "outputs": [
    {
     "data": {
      "text/plain": [
       "(torch.Size([5, 12]), torch.Size([12, 16]))"
      ]
     },
     "execution_count": 8,
     "metadata": {},
     "output_type": "execute_result"
    }
   ],
   "source": [
    "X.shape, Y.shape"
   ]
  },
  {
   "cell_type": "code",
   "execution_count": 9,
   "metadata": {},
   "outputs": [
    {
     "data": {
      "text/plain": [
       "tensor([[0.6024, 0.2324, 0.5835, 0.5698, 0.3306, 0.7101, 0.2171, 0.9921, 0.7112,\n",
       "         0.2030, 0.6085, 0.4897],\n",
       "        [0.8638, 0.2162, 0.0325, 0.5694, 0.8306, 0.1412, 0.9464, 0.0966, 0.4502,\n",
       "         0.0967, 0.0884, 0.1272],\n",
       "        [0.6742, 0.5368, 0.5999, 0.9342, 0.4922, 0.9439, 0.4628, 0.6094, 0.7772,\n",
       "         0.7615, 0.1510, 0.3995],\n",
       "        [0.1559, 0.8499, 0.3362, 0.1704, 0.7954, 0.7656, 0.9667, 0.4691, 0.3567,\n",
       "         0.6626, 0.3895, 0.4740],\n",
       "        [0.5451, 0.1338, 0.7106, 0.6133, 0.9111, 0.8062, 0.8513, 0.5129, 0.5440,\n",
       "         0.9586, 0.4988, 0.2231]])"
      ]
     },
     "execution_count": 9,
     "metadata": {},
     "output_type": "execute_result"
    }
   ],
   "source": [
    "X"
   ]
  },
  {
   "cell_type": "code",
   "execution_count": 10,
   "metadata": {},
   "outputs": [
    {
     "data": {
      "text/plain": [
       "tensor([[3.8796, 3.0237, 3.4297, 3.1230, 2.3967, 2.8008, 3.5147, 3.6485, 3.5464,\n",
       "         2.3520, 3.1618, 2.6088, 3.1983, 3.4108, 3.8496, 3.3973],\n",
       "        [2.7297, 2.1273, 2.0943, 3.1069, 2.3536, 3.1012, 1.9404, 2.3408, 2.2542,\n",
       "         1.4507, 2.2486, 1.3098, 2.2580, 2.4077, 2.7242, 2.8654],\n",
       "        [4.5882, 3.9459, 3.9832, 3.9535, 2.8679, 3.6182, 3.6701, 4.0607, 3.7144,\n",
       "         2.7316, 3.4833, 3.0029, 4.0037, 3.9815, 4.7554, 4.0302],\n",
       "        [3.8106, 3.8144, 3.1560, 3.4267, 2.3823, 3.4461, 3.6341, 3.8274, 3.1398,\n",
       "         2.2623, 3.3850, 2.2100, 3.7477, 3.5399, 3.5410, 3.3300],\n",
       "        [4.1129, 4.0660, 3.8205, 4.2370, 2.7417, 3.5275, 3.8885, 4.0431, 3.7540,\n",
       "         2.5892, 3.8432, 2.6094, 4.2013, 4.1917, 4.5790, 3.9672]])"
      ]
     },
     "execution_count": 10,
     "metadata": {},
     "output_type": "execute_result"
    }
   ],
   "source": [
    "X @ Y"
   ]
  },
  {
   "cell_type": "code",
   "execution_count": 11,
   "metadata": {},
   "outputs": [],
   "source": [
    "Z = X @ Y"
   ]
  },
  {
   "cell_type": "code",
   "execution_count": 12,
   "metadata": {},
   "outputs": [
    {
     "data": {
      "text/plain": [
       "(torch.Size([5, 12]), torch.Size([12, 16]))"
      ]
     },
     "execution_count": 12,
     "metadata": {},
     "output_type": "execute_result"
    }
   ],
   "source": [
    "X.shape, Y.shape"
   ]
  },
  {
   "cell_type": "code",
   "execution_count": 13,
   "metadata": {},
   "outputs": [
    {
     "data": {
      "text/plain": [
       "torch.Size([5, 16])"
      ]
     },
     "execution_count": 13,
     "metadata": {},
     "output_type": "execute_result"
    }
   ],
   "source": [
    "Z.shape"
   ]
  },
  {
   "cell_type": "code",
   "execution_count": 13,
   "metadata": {
    "scrolled": true
   },
   "outputs": [
    {
     "ename": "RuntimeError",
     "evalue": "mat1 and mat2 shapes cannot be multiplied (12x16 and 5x16)",
     "output_type": "error",
     "traceback": [
      "\u001b[0;31m---------------------------------------------------------------------------\u001b[0m",
      "\u001b[0;31mRuntimeError\u001b[0m                              Traceback (most recent call last)",
      "\u001b[0;32m<ipython-input-13-e8e80d0cad29>\u001b[0m in \u001b[0;36m<module>\u001b[0;34m\u001b[0m\n\u001b[0;32m----> 1\u001b[0;31m \u001b[0mY\u001b[0m \u001b[0;34m@\u001b[0m \u001b[0mZ\u001b[0m\u001b[0;34m\u001b[0m\u001b[0;34m\u001b[0m\u001b[0m\n\u001b[0m",
      "\u001b[0;31mRuntimeError\u001b[0m: mat1 and mat2 shapes cannot be multiplied (12x16 and 5x16)"
     ]
    }
   ],
   "source": [
    "Y @ Z"
   ]
  },
  {
   "cell_type": "code",
   "execution_count": 14,
   "metadata": {},
   "outputs": [],
   "source": [
    "import torchvision"
   ]
  },
  {
   "cell_type": "code",
   "execution_count": 15,
   "metadata": {},
   "outputs": [],
   "source": [
    "# MNIST : hello world\n",
    "# EMNIST : extended with letters in addition to digits\n",
    "# KMNIST : Kuzushiji, Japanese characters\n",
    "# QMNIST : newer MNIST with better source information\n",
    "\n",
    "data_path = \"../data/\"\n",
    "\n",
    "mnist_transforms = torchvision.transforms.Compose(\n",
    "    [\n",
    "        torchvision.transforms.ToTensor(),\n",
    "        torchvision.transforms.Normalize((0.1307,), (0.3081,)),\n",
    "    ]\n",
    ")\n",
    "\n",
    "train_dataset = torchvision.datasets.MNIST(\n",
    "    root=data_path, train=True, download=True, transform=mnist_transforms\n",
    ")"
   ]
  },
  {
   "cell_type": "code",
   "execution_count": 16,
   "metadata": {},
   "outputs": [],
   "source": [
    "# batch_size, shuffle\n",
    "train_loader = torch.utils.data.DataLoader(train_dataset)"
   ]
  },
  {
   "cell_type": "code",
   "execution_count": 17,
   "metadata": {},
   "outputs": [],
   "source": [
    "image, label = next(iter(train_loader))"
   ]
  },
  {
   "cell_type": "code",
   "execution_count": 18,
   "metadata": {},
   "outputs": [
    {
     "data": {
      "text/plain": [
       "torch.Size([1, 1, 28, 28])"
      ]
     },
     "execution_count": 18,
     "metadata": {},
     "output_type": "execute_result"
    }
   ],
   "source": [
    "image.shape"
   ]
  },
  {
   "cell_type": "code",
   "execution_count": 19,
   "metadata": {},
   "outputs": [
    {
     "data": {
      "text/plain": [
       "(torch.Size([1]), tensor([5]))"
      ]
     },
     "execution_count": 19,
     "metadata": {},
     "output_type": "execute_result"
    }
   ],
   "source": [
    "label.shape, label"
   ]
  },
  {
   "cell_type": "code",
   "execution_count": 20,
   "metadata": {},
   "outputs": [],
   "source": [
    "import matplotlib.pyplot as plt"
   ]
  },
  {
   "cell_type": "code",
   "execution_count": 21,
   "metadata": {},
   "outputs": [
    {
     "data": {
      "image/png": "[encoded data removed]",
      "text/plain": [
       "<Figure size 864x864 with 8 Axes>"
      ]
     },
     "metadata": {},
     "output_type": "display_data"
    }
   ],
   "source": [
    "num_to_show = 8\n",
    "\n",
    "fig, axes = plt.subplots(1, num_to_show, figsize=(12, 12))\n",
    "\n",
    "for axis, (image, label) in zip(axes, train_loader):\n",
    "    axis.imshow(image.squeeze(), cmap=\"Greys\")\n",
    "    axis.tick_params(left=False, bottom=False, labelleft=False, labelbottom=False)\n",
    "    axis.set_title(f\"Label: {label[0]}\")"
   ]
  },
  {
   "cell_type": "code",
   "execution_count": 22,
   "metadata": {},
   "outputs": [],
   "source": [
    "# Simple single neuron model; sometimes called logistic regression\n",
    "\n",
    "num_pixels = 28 * 28\n",
    "\n",
    "# Neuron parameters\n",
    "weights = torch.randn(num_pixels, 1) * 0.01\n",
    "bias = torch.zeros(1)"
   ]
  },
  {
   "cell_type": "code",
   "execution_count": 23,
   "metadata": {},
   "outputs": [
    {
     "data": {
      "text/plain": [
       "(torch.Size([784, 1]),\n",
       " torch.Size([1]),\n",
       " torch.Size([1, 28, 28]),\n",
       " torch.Size([784, 1]))"
      ]
     },
     "execution_count": 23,
     "metadata": {},
     "output_type": "execute_result"
    }
   ],
   "source": [
    "weights.shape, bias.shape, image[0].shape, image[0].view(num_pixels, 1).shape"
   ]
  },
  {
   "cell_type": "code",
   "execution_count": 24,
   "metadata": {},
   "outputs": [],
   "source": [
    "x = image[0]"
   ]
  },
  {
   "cell_type": "code",
   "execution_count": 25,
   "metadata": {},
   "outputs": [
    {
     "ename": "RuntimeError",
     "evalue": "mat1 and mat2 shapes cannot be multiplied (28x28 and 1x784)",
     "output_type": "error",
     "traceback": [
      "\u001b[0;31m---------------------------------------------------------------------------\u001b[0m",
      "\u001b[0;31mRuntimeError\u001b[0m                              Traceback (most recent call last)",
      "\u001b[0;32m<ipython-input-25-7f075eeb6c71>\u001b[0m in \u001b[0;36m<module>\u001b[0;34m\u001b[0m\n\u001b[0;32m----> 1\u001b[0;31m \u001b[0mweights\u001b[0m \u001b[0;34m@\u001b[0m \u001b[0mx\u001b[0m\u001b[0;34m\u001b[0m\u001b[0;34m\u001b[0m\u001b[0m\n\u001b[0m",
      "\u001b[0;31mRuntimeError\u001b[0m: mat1 and mat2 shapes cannot be multiplied (28x28 and 1x784)"
     ]
    }
   ],
   "source": [
    "weights @ x"
   ]
  },
  {
   "cell_type": "code",
   "execution_count": 26,
   "metadata": {},
   "outputs": [],
   "source": [
    "x = image[0].view(num_pixels, 1)"
   ]
  },
  {
   "cell_type": "code",
   "execution_count": 27,
   "metadata": {},
   "outputs": [
    {
     "ename": "RuntimeError",
     "evalue": "mat1 and mat2 shapes cannot be multiplied (784x1 and 784x1)",
     "output_type": "error",
     "traceback": [
      "\u001b[0;31m---------------------------------------------------------------------------\u001b[0m",
      "\u001b[0;31mRuntimeError\u001b[0m                              Traceback (most recent call last)",
      "\u001b[0;32m<ipython-input-27-7f075eeb6c71>\u001b[0m in \u001b[0;36m<module>\u001b[0;34m\u001b[0m\n\u001b[0;32m----> 1\u001b[0;31m \u001b[0mweights\u001b[0m \u001b[0;34m@\u001b[0m \u001b[0mx\u001b[0m\u001b[0;34m\u001b[0m\u001b[0;34m\u001b[0m\u001b[0m\n\u001b[0m",
      "\u001b[0;31mRuntimeError\u001b[0m: mat1 and mat2 shapes cannot be multiplied (784x1 and 784x1)"
     ]
    }
   ],
   "source": [
    "weights @ x"
   ]
  },
  {
   "cell_type": "code",
   "execution_count": 28,
   "metadata": {},
   "outputs": [
    {
     "data": {
      "text/plain": [
       "tensor([[0.4382]])"
      ]
     },
     "execution_count": 28,
     "metadata": {},
     "output_type": "execute_result"
    }
   ],
   "source": [
    "weights.T @ x"
   ]
  },
  {
   "cell_type": "code",
   "execution_count": 29,
   "metadata": {},
   "outputs": [],
   "source": [
    "# from torch import FloatTensor, FloatType\n",
    "\n",
    "\n",
    "def linear(w, b, x):\n",
    "    return w.T @ x + b"
   ]
  },
  {
   "cell_type": "code",
   "execution_count": 30,
   "metadata": {},
   "outputs": [
    {
     "data": {
      "text/plain": [
       "tensor([[0.4382]])"
      ]
     },
     "execution_count": 30,
     "metadata": {},
     "output_type": "execute_result"
    }
   ],
   "source": [
    "linear(weights, bias, x)"
   ]
  },
  {
   "cell_type": "code",
   "execution_count": 31,
   "metadata": {},
   "outputs": [],
   "source": [
    "def sigmoid(z):\n",
    "    return 1 / (1 + torch.exp(-z))"
   ]
  },
  {
   "cell_type": "code",
   "execution_count": 32,
   "metadata": {},
   "outputs": [
    {
     "data": {
      "text/plain": [
       "tensor([[0.6078]])"
      ]
     },
     "execution_count": 32,
     "metadata": {},
     "output_type": "execute_result"
    }
   ],
   "source": [
    "sigmoid(linear(weights, bias, x))"
   ]
  },
  {
   "cell_type": "code",
   "execution_count": 33,
   "metadata": {},
   "outputs": [],
   "source": [
    "# Get down to two classes (let them pick)\n",
    "\n",
    "class1 = 7\n",
    "class2 = 1\n",
    "\n",
    "idx1 = [i for i, t in enumerate(train_dataset.targets) if t == class1]\n",
    "idx2 = [i for i, t in enumerate(train_dataset.targets) if t == class2]\n",
    "\n",
    "idxs = idx1 + idx2\n",
    "train_size = len(idxs)\n",
    "\n",
    "train_loader2 = torch.utils.data.DataLoader(\n",
    "    train_dataset, sampler=torch.utils.data.SubsetRandomSampler(idxs)\n",
    ")"
   ]
  },
  {
   "cell_type": "code",
   "execution_count": 34,
   "metadata": {},
   "outputs": [
    {
     "data": {
      "image/png": "[encoded data removed]",
      "text/plain": [
       "<Figure size 864x864 with 8 Axes>"
      ]
     },
     "metadata": {},
     "output_type": "display_data"
    }
   ],
   "source": [
    "num_to_show = 8\n",
    "\n",
    "fig, axes = plt.subplots(1, num_to_show, figsize=(12, 12))\n",
    "\n",
    "for axis, (image, label) in zip(axes, train_loader2):\n",
    "    axis.imshow(image.squeeze(), cmap=\"Greys\")\n",
    "    axis.tick_params(left=False, bottom=False, labelleft=False, labelbottom=False)\n",
    "    axis.set_title(f\"Label: {label[0]}\")"
   ]
  },
  {
   "cell_type": "code",
   "execution_count": 35,
   "metadata": {},
   "outputs": [],
   "source": [
    "from time import time"
   ]
  },
  {
   "cell_type": "code",
   "execution_count": 36,
   "metadata": {},
   "outputs": [
    {
     "name": "stdout",
     "output_type": "stream",
     "text": [
      " 1/10, Cost=10287.2, Time=3.7s\n",
      " 2/10, Cost=7612.9, Time=3.7s\n",
      " 3/10, Cost=6000.4, Time=3.6s\n",
      " 4/10, Cost=4976.7, Time=3.7s\n",
      " 5/10, Cost=4282.5, Time=3.6s\n",
      " 6/10, Cost=3784.1, Time=3.8s\n",
      " 7/10, Cost=3409.3, Time=3.7s\n",
      " 8/10, Cost=3117.2, Time=3.7s\n",
      " 9/10, Cost=2882.8, Time=3.6s\n",
      "10/10, Cost=2690.3, Time=3.7s\n"
     ]
    }
   ],
   "source": [
    "# Optimization, binary cross-entropy loss (Log loss, aka logistic loss or cross-entropy loss)\n",
    "# defined as the negative log-likelihood of a logistic model that returns y_pred probabilities for its training data y_true\n",
    "\n",
    "# compare with: subtraction, MSE, abs\n",
    "\n",
    "\n",
    "def target_to_sigmoid(target):\n",
    "    new_target = torch.zeros_like(target)\n",
    "    new_target[target == class1] = 1\n",
    "    return new_target\n",
    "\n",
    "\n",
    "# Neuron parameters\n",
    "num_pixels = 28 * 28\n",
    "weights = torch.randn(num_pixels, 1) * 0.01\n",
    "bias = torch.zeros(1)\n",
    "\n",
    "num_epochs = 10\n",
    "learning_rate = 0.01\n",
    "\n",
    "for epoch in range(num_epochs):\n",
    "\n",
    "    cost = 0\n",
    "    weights_derivatives = torch.zeros_like(weights)\n",
    "    bias_derivative = torch.zeros_like(bias)\n",
    "\n",
    "    start = time()\n",
    "\n",
    "    for image, target in train_loader2:\n",
    "\n",
    "        image = image.view(num_pixels, 1)\n",
    "        target = target_to_sigmoid(target)\n",
    "\n",
    "        prediction = sigmoid(linear(weights, bias, image))\n",
    "\n",
    "        loss = target * torch.log(prediction) + (1 - target) * torch.log(1 - prediction)\n",
    "        cost -= loss\n",
    "\n",
    "        dz = prediction - target\n",
    "        weights_derivatives += image * dz\n",
    "        bias_derivative += dz.squeeze()\n",
    "\n",
    "    weights_derivatives /= len(train_loader2)\n",
    "    bias_derivative /= len(train_loader2)\n",
    "\n",
    "    weights -= learning_rate * weights_derivatives\n",
    "    bias -= learning_rate * bias_derivative\n",
    "\n",
    "    print(\n",
    "        f\"{epoch+1:>2}/{num_epochs}, Cost={cost[0][0]:0.1f}, Time={time()-start:0.1f}s\"\n",
    "    )"
   ]
  },
  {
   "cell_type": "code",
   "execution_count": 37,
   "metadata": {},
   "outputs": [],
   "source": [
    "# Set the batch size to be equal to the size of the training dataset\n",
    "train_loader2All = torch.utils.data.DataLoader(\n",
    "    train_dataset,\n",
    "    sampler=torch.utils.data.SubsetRandomSampler(idxs),\n",
    "    batch_size=train_size,\n",
    ")"
   ]
  },
  {
   "cell_type": "code",
   "execution_count": 38,
   "metadata": {},
   "outputs": [
    {
     "name": "stdout",
     "output_type": "stream",
     "text": [
      " 1/10, Cost=8091.4, Time=1.6s\n",
      " 2/10, Cost=6290.7, Time=1.5s\n",
      " 3/10, Cost=5190.7, Time=1.6s\n",
      " 4/10, Cost=4453.9, Time=1.6s\n",
      " 5/10, Cost=3927.1, Time=1.6s\n",
      " 6/10, Cost=3532.1, Time=1.5s\n",
      " 7/10, Cost=3224.7, Time=1.6s\n",
      " 8/10, Cost=2978.4, Time=1.6s\n",
      " 9/10, Cost=2776.4, Time=1.6s\n",
      "10/10, Cost=2607.5, Time=1.5s\n"
     ]
    }
   ],
   "source": [
    "# Vectorize (operate on all images at once)\n",
    "\n",
    "# Neuron parameters\n",
    "num_pixels = 28 * 28\n",
    "weights = torch.randn(num_pixels, 1) * 0.01\n",
    "bias = torch.zeros(1)\n",
    "\n",
    "num_epochs = 10\n",
    "learning_rate = 0.01\n",
    "\n",
    "for epoch in range(num_epochs):\n",
    "\n",
    "    weights_derivatives = torch.zeros_like(weights)\n",
    "    bias_derivative = torch.zeros_like(bias)\n",
    "\n",
    "    start = time()\n",
    "\n",
    "    images, targets = next(iter(train_loader2All))\n",
    "    # print(len(images), images.shape, images.view(train_size, num_pixels))\n",
    "\n",
    "    images = images.view(train_size, num_pixels)\n",
    "    targets = target_to_sigmoid(targets)\n",
    "\n",
    "    predictions = sigmoid(linear(weights, bias, images.T))\n",
    "    # print(predictions.shape, targets.shape)\n",
    "\n",
    "    loss = targets * torch.log(predictions) + (1 - targets) * torch.log(1 - predictions)\n",
    "    cost = -loss.sum()\n",
    "\n",
    "    dZ = predictions - targets\n",
    "    weights_derivatives = (1 / train_size) * (dZ @ images)\n",
    "    bias_derivative = (1 / train_size) * dZ.sum()\n",
    "\n",
    "    weights -= learning_rate * weights_derivatives.T\n",
    "    bias -= learning_rate * bias_derivative\n",
    "\n",
    "    print(f\"{epoch+1:>2}/{num_epochs}, Cost={cost:0.1f}, Time={time()-start:0.1f}s\")"
   ]
  },
  {
   "cell_type": "code",
   "execution_count": 39,
   "metadata": {},
   "outputs": [
    {
     "name": "stdout",
     "output_type": "stream",
     "text": [
      "2163\n"
     ]
    }
   ],
   "source": [
    "# Create the validation dataset\n",
    "\n",
    "valid_dataset = torchvision.datasets.MNIST(\n",
    "    root=data_path, train=False, download=True, transform=mnist_transforms\n",
    ")\n",
    "\n",
    "idx1 = [i for i, t in enumerate(valid_dataset.targets) if t == class1]\n",
    "idx2 = [i for i, t in enumerate(valid_dataset.targets) if t == class2]\n",
    "\n",
    "valid_idxs = idx1 + idx2\n",
    "valid_size = len(valid_idxs)\n",
    "\n",
    "print(valid_size)\n",
    "\n",
    "valid_loader2All = torch.utils.data.DataLoader(\n",
    "    valid_dataset,\n",
    "    sampler=torch.utils.data.SubsetRandomSampler(valid_idxs),\n",
    "    batch_size=valid_size,\n",
    ")"
   ]
  },
  {
   "cell_type": "code",
   "execution_count": 40,
   "metadata": {},
   "outputs": [
    {
     "name": "stdout",
     "output_type": "stream",
     "text": [
      "Accuracy=0.59\n",
      " 1/10, Cost=8620.4, Accuracy=0.93, Time=2.0s\n",
      " 2/10, Cost=6575.2, Accuracy=0.95, Time=1.9s\n",
      " 3/10, Cost=5334.0, Accuracy=0.96, Time=1.9s\n",
      " 4/10, Cost=4520.4, Accuracy=0.96, Time=1.8s\n",
      " 5/10, Cost=3950.9, Accuracy=0.96, Time=2.0s\n",
      " 6/10, Cost=3531.2, Accuracy=0.96, Time=1.9s\n",
      " 7/10, Cost=3209.4, Accuracy=0.97, Time=1.9s\n",
      " 8/10, Cost=2954.5, Accuracy=0.97, Time=1.8s\n",
      " 9/10, Cost=2747.5, Accuracy=0.97, Time=1.7s\n",
      "10/10, Cost=2575.8, Accuracy=0.97, Time=1.8s\n"
     ]
    }
   ],
   "source": [
    "# Add validation metric\n",
    "\n",
    "# Neuron parameters\n",
    "num_pixels = 28 * 28\n",
    "weights = torch.randn(num_pixels, 1) * 0.01\n",
    "bias = torch.zeros(1)\n",
    "\n",
    "num_epochs = 10\n",
    "learning_rate = 0.01\n",
    "\n",
    "# Validate with accuracy\n",
    "valid_images, valid_targets = next(iter(valid_loader2All))\n",
    "valid_images = valid_images.view(valid_size, num_pixels)\n",
    "valid_targets = target_to_sigmoid(valid_targets)\n",
    "\n",
    "valid_predictions = sigmoid(linear(weights, bias, valid_images.T))\n",
    "\n",
    "accuracy = 1 - (torch.round(valid_predictions) - valid_targets).abs().sum() / valid_size\n",
    "\n",
    "print(f\"Accuracy={accuracy:.2f}\")\n",
    "\n",
    "for epoch in range(num_epochs):\n",
    "\n",
    "    weights_derivatives = torch.zeros_like(weights)\n",
    "    bias_derivative = torch.zeros_like(bias)\n",
    "\n",
    "    start = time()\n",
    "\n",
    "    images, targets = next(iter(train_loader2All))\n",
    "    images = images.view(train_size, num_pixels)\n",
    "    targets = target_to_sigmoid(targets)\n",
    "\n",
    "    predictions = sigmoid(linear(weights, bias, images.T))\n",
    "\n",
    "    loss = targets * torch.log(predictions) + (1 - targets) * torch.log(1 - predictions)\n",
    "    cost = -loss.sum()\n",
    "\n",
    "    dZ = predictions - targets\n",
    "    weights_derivatives = (1 / train_size) * (dZ @ images)\n",
    "    bias_derivative = (1 / train_size) * dZ.sum()\n",
    "\n",
    "    weights -= learning_rate * weights_derivatives.T\n",
    "    bias -= learning_rate * bias_derivative\n",
    "\n",
    "    # Validate with accuracy\n",
    "    valid_images, valid_targets = next(iter(valid_loader2All))\n",
    "    valid_images = valid_images.view(valid_size, num_pixels)\n",
    "    valid_targets = target_to_sigmoid(valid_targets)\n",
    "\n",
    "    valid_predictions = sigmoid(linear(weights, bias, valid_images.T))\n",
    "\n",
    "    accuracy = (\n",
    "        1 - (torch.round(valid_predictions) - valid_targets).abs().sum() / valid_size\n",
    "    )\n",
    "\n",
    "    print(\n",
    "        f\"{epoch+1:>2}/{num_epochs}, Cost={cost:0.1f}, Accuracy={accuracy:.2f}, Time={time()-start:0.1f}s\"\n",
    "    )"
   ]
  },
  {
   "cell_type": "code",
   "execution_count": 41,
   "metadata": {},
   "outputs": [
    {
     "data": {
      "text/plain": [
       "torch.Size([1, 2163])"
      ]
     },
     "execution_count": 41,
     "metadata": {},
     "output_type": "execute_result"
    }
   ],
   "source": [
    "valid_predictions.shape"
   ]
  },
  {
   "cell_type": "code",
   "execution_count": 42,
   "metadata": {},
   "outputs": [
    {
     "data": {
      "text/plain": [
       "torch.Size([2163])"
      ]
     },
     "execution_count": 42,
     "metadata": {},
     "output_type": "execute_result"
    }
   ],
   "source": [
    "valid_targets.shape"
   ]
  },
  {
   "cell_type": "code",
   "execution_count": 43,
   "metadata": {},
   "outputs": [
    {
     "data": {
      "text/plain": [
       "tensor([[0.0713, 0.8575, 0.2498,  ..., 0.0875, 0.1086, 0.1748]])"
      ]
     },
     "execution_count": 43,
     "metadata": {},
     "output_type": "execute_result"
    }
   ],
   "source": [
    "valid_predictions[:10]"
   ]
  },
  {
   "cell_type": "code",
   "execution_count": 44,
   "metadata": {},
   "outputs": [
    {
     "data": {
      "text/plain": [
       "tensor([[0., 1., 0.,  ..., 0., 0., 0.]])"
      ]
     },
     "execution_count": 44,
     "metadata": {},
     "output_type": "execute_result"
    }
   ],
   "source": [
    "torch.round(valid_predictions)"
   ]
  },
  {
   "cell_type": "code",
   "execution_count": 45,
   "metadata": {},
   "outputs": [
    {
     "data": {
      "text/plain": [
       "tensor(-57.)"
      ]
     },
     "execution_count": 45,
     "metadata": {},
     "output_type": "execute_result"
    }
   ],
   "source": [
    "(torch.round(valid_predictions) - valid_targets).sum()"
   ]
  },
  {
   "cell_type": "code",
   "execution_count": 46,
   "metadata": {},
   "outputs": [
    {
     "data": {
      "text/plain": [
       "tensor(-0.0264)"
      ]
     },
     "execution_count": 46,
     "metadata": {},
     "output_type": "execute_result"
    }
   ],
   "source": [
    "(torch.round(valid_predictions) - valid_targets).sum()/valid_size"
   ]
  },
  {
   "cell_type": "code",
   "execution_count": 47,
   "metadata": {},
   "outputs": [
    {
     "data": {
      "text/plain": [
       "tensor(1.0264)"
      ]
     },
     "execution_count": 47,
     "metadata": {},
     "output_type": "execute_result"
    }
   ],
   "source": [
    "1 - (torch.round(valid_predictions) - valid_targets).sum()/valid_size"
   ]
  },
  {
   "cell_type": "code",
   "execution_count": 48,
   "metadata": {},
   "outputs": [],
   "source": [
    "x = 1 - (torch.round(valid_predictions) - valid_targets).sum()/valid_size"
   ]
  },
  {
   "cell_type": "code",
   "execution_count": 49,
   "metadata": {},
   "outputs": [
    {
     "data": {
      "text/plain": [
       "'Accuracy=1.03'"
      ]
     },
     "execution_count": 49,
     "metadata": {},
     "output_type": "execute_result"
    }
   ],
   "source": [
    "f\"Accuracy={x:.2f}\""
   ]
  },
  {
   "cell_type": "code",
   "execution_count": null,
   "metadata": {},
   "outputs": [],
   "source": []
  }
 ],
 "metadata": {
  "kernelspec": {
   "display_name": "Python 3",
   "language": "python",
   "name": "python3"
  },
  "language_info": {
   "codemirror_mode": {
    "name": "ipython",
    "version": 3
   },
   "file_extension": ".py",
   "mimetype": "text/x-python",
   "name": "python",
   "nbconvert_exporter": "python",
   "pygments_lexer": "ipython3",
   "version": "3.8.5"
  }
 },
 "nbformat": 4,
 "nbformat_minor": 2
}
