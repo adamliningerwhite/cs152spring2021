{
 "cells": [
  {
   "cell_type": "code",
   "execution_count": 1,
   "metadata": {},
   "outputs": [],
   "source": [
    "# Draw pictures\n",
    "# - Flattening image\n",
    "# - logistic regression (one neuron)\n",
    "# - cross entropy loss\n",
    "\n",
    "\n",
    "# Python is not an ideal langauge for this\n",
    "# Jupyter is not an ideal environment for htis\n",
    "# They are the best we have\n",
    "\n",
    "# In this example, I am not going to do fancy imports\n",
    "# I want you to see the layout of torch and torchvision"
   ]
  },
  {
   "cell_type": "code",
   "execution_count": 2,
   "metadata": {},
   "outputs": [],
   "source": [
    "import torch\n",
    "import torchvision"
   ]
  },
  {
   "cell_type": "code",
   "execution_count": 3,
   "metadata": {},
   "outputs": [],
   "source": [
    "# MNIST : hello world\n",
    "# EMNIST : extended with letters in addition to digits\n",
    "# KMNIST : Kuzushiji, Japanese characters\n",
    "# QMNIST : newer MNIST with better source information\n",
    "\n",
    "data_path = \"../data/\"\n",
    "\n",
    "mnist_transforms = torchvision.transforms.Compose(\n",
    "    [\n",
    "        torchvision.transforms.ToTensor(),\n",
    "        torchvision.transforms.Normalize((0.1307,), (0.3081,)),\n",
    "    ]\n",
    ")\n",
    "\n",
    "train_dataset = torchvision.datasets.MNIST(\n",
    "    root=data_path, train=True, download=True, transform=mnist_transforms\n",
    ")"
   ]
  },
  {
   "cell_type": "code",
   "execution_count": 4,
   "metadata": {},
   "outputs": [],
   "source": [
    "# batch_size, shuffle\n",
    "train_loader = torch.utils.data.DataLoader(train_dataset)"
   ]
  },
  {
   "cell_type": "code",
   "execution_count": 5,
   "metadata": {},
   "outputs": [],
   "source": [
    "image, label = next(iter(train_loader))"
   ]
  },
  {
   "cell_type": "code",
   "execution_count": 6,
   "metadata": {},
   "outputs": [
    {
     "data": {
      "text/plain": [
       "torch.Size([1, 1, 28, 28])"
      ]
     },
     "execution_count": 6,
     "metadata": {},
     "output_type": "execute_result"
    }
   ],
   "source": [
    "image.shape"
   ]
  },
  {
   "cell_type": "code",
   "execution_count": 7,
   "metadata": {},
   "outputs": [
    {
     "data": {
      "text/plain": [
       "(torch.Size([1]), tensor([5]))"
      ]
     },
     "execution_count": 7,
     "metadata": {},
     "output_type": "execute_result"
    }
   ],
   "source": [
    "label.shape, label"
   ]
  },
  {
   "cell_type": "code",
   "execution_count": 8,
   "metadata": {},
   "outputs": [],
   "source": [
    "import matplotlib.pyplot as plt"
   ]
  },
  {
   "cell_type": "code",
   "execution_count": 9,
   "metadata": {},
   "outputs": [
    {
     "data": {
      "image/png": "[encoded data removed]",
      "text/plain": [
       "<Figure size 864x864 with 8 Axes>"
      ]
     },
     "metadata": {},
     "output_type": "display_data"
    }
   ],
   "source": [
    "num_to_show = 8\n",
    "\n",
    "fig, axes = plt.subplots(1, num_to_show, figsize=(12, 12))\n",
    "\n",
    "for axis, (image, label) in zip(axes, train_loader):\n",
    "    axis.imshow(image.squeeze(), cmap=\"Greys\")\n",
    "    axis.tick_params(left=False, bottom=False, labelleft=False, labelbottom=False)\n",
    "    axis.set_title(f\"Label: {label[0]}\")"
   ]
  },
  {
   "cell_type": "code",
   "execution_count": 10,
   "metadata": {},
   "outputs": [],
   "source": [
    "# Simple single neuron model; sometimes called logistic regression\n",
    "\n",
    "num_pixels = 28 * 28\n",
    "\n",
    "# Neuron parameters\n",
    "weights = torch.randn(num_pixels, 1) * 0.01\n",
    "bias = torch.zeros(1)"
   ]
  },
  {
   "cell_type": "code",
   "execution_count": 11,
   "metadata": {},
   "outputs": [
    {
     "data": {
      "text/plain": [
       "(torch.Size([784, 1]),\n",
       " torch.Size([1]),\n",
       " torch.Size([1, 28, 28]),\n",
       " torch.Size([784, 1]))"
      ]
     },
     "execution_count": 11,
     "metadata": {},
     "output_type": "execute_result"
    }
   ],
   "source": [
    "weights.shape, bias.shape, image[0].shape, image[0].view(num_pixels, 1).shape"
   ]
  },
  {
   "cell_type": "code",
   "execution_count": 12,
   "metadata": {},
   "outputs": [],
   "source": [
    "x = image[0]"
   ]
  },
  {
   "cell_type": "code",
   "execution_count": 13,
   "metadata": {},
   "outputs": [
    {
     "ename": "RuntimeError",
     "evalue": "mat1 and mat2 shapes cannot be multiplied (28x28 and 1x784)",
     "output_type": "error",
     "traceback": [
      "\u001b[0;31m---------------------------------------------------------------------------\u001b[0m",
      "\u001b[0;31mRuntimeError\u001b[0m                              Traceback (most recent call last)",
      "\u001b[0;32m<ipython-input-13-7f075eeb6c71>\u001b[0m in \u001b[0;36m<module>\u001b[0;34m\u001b[0m\n\u001b[0;32m----> 1\u001b[0;31m \u001b[0mweights\u001b[0m \u001b[0;34m@\u001b[0m \u001b[0mx\u001b[0m\u001b[0;34m\u001b[0m\u001b[0;34m\u001b[0m\u001b[0m\n\u001b[0m",
      "\u001b[0;31mRuntimeError\u001b[0m: mat1 and mat2 shapes cannot be multiplied (28x28 and 1x784)"
     ]
    }
   ],
   "source": [
    "weights @ x"
   ]
  },
  {
   "cell_type": "code",
   "execution_count": 14,
   "metadata": {},
   "outputs": [],
   "source": [
    "x = image[0].view(num_pixels, 1)"
   ]
  },
  {
   "cell_type": "code",
   "execution_count": 15,
   "metadata": {},
   "outputs": [
    {
     "ename": "RuntimeError",
     "evalue": "mat1 and mat2 shapes cannot be multiplied (784x1 and 784x1)",
     "output_type": "error",
     "traceback": [
      "\u001b[0;31m---------------------------------------------------------------------------\u001b[0m",
      "\u001b[0;31mRuntimeError\u001b[0m                              Traceback (most recent call last)",
      "\u001b[0;32m<ipython-input-15-7f075eeb6c71>\u001b[0m in \u001b[0;36m<module>\u001b[0;34m\u001b[0m\n\u001b[0;32m----> 1\u001b[0;31m \u001b[0mweights\u001b[0m \u001b[0;34m@\u001b[0m \u001b[0mx\u001b[0m\u001b[0;34m\u001b[0m\u001b[0;34m\u001b[0m\u001b[0m\n\u001b[0m",
      "\u001b[0;31mRuntimeError\u001b[0m: mat1 and mat2 shapes cannot be multiplied (784x1 and 784x1)"
     ]
    }
   ],
   "source": [
    "weights @ x"
   ]
  },
  {
   "cell_type": "code",
   "execution_count": 16,
   "metadata": {},
   "outputs": [
    {
     "data": {
      "text/plain": [
       "tensor([[-0.4256]])"
      ]
     },
     "execution_count": 16,
     "metadata": {},
     "output_type": "execute_result"
    }
   ],
   "source": [
    "weights.T @ x"
   ]
  },
  {
   "cell_type": "code",
   "execution_count": 17,
   "metadata": {},
   "outputs": [],
   "source": [
    "# from torch import FloatTensor, FloatType\n",
    "\n",
    "def linear(\n",
    "    w: torch.FloatTensor, b: torch.FloatType, x: torch.FloatTensor\n",
    ") -> torch.FloatType:\n",
    "    return w.T @ x + b"
   ]
  },
  {
   "cell_type": "code",
   "execution_count": 18,
   "metadata": {},
   "outputs": [
    {
     "data": {
      "text/plain": [
       "tensor([[-0.4256]])"
      ]
     },
     "execution_count": 18,
     "metadata": {},
     "output_type": "execute_result"
    }
   ],
   "source": [
    "linear(weights, bias, x)"
   ]
  },
  {
   "cell_type": "code",
   "execution_count": 19,
   "metadata": {},
   "outputs": [],
   "source": [
    "def sigmoid(z: torch.FloatType) -> torch.FloatType:\n",
    "    return 1 / (1 + torch.exp(-z))\n",
    "#     return torch.clamp(z, min=0)"
   ]
  },
  {
   "cell_type": "code",
   "execution_count": 20,
   "metadata": {},
   "outputs": [
    {
     "data": {
      "text/plain": [
       "tensor([[0.3952]])"
      ]
     },
     "execution_count": 20,
     "metadata": {},
     "output_type": "execute_result"
    }
   ],
   "source": [
    "sigmoid(linear(weights, bias, x))"
   ]
  },
  {
   "cell_type": "code",
   "execution_count": 21,
   "metadata": {},
   "outputs": [],
   "source": [
    "# Get down to two classes (let them pick)\n",
    "idx1 = [i for i, t in enumerate(train_dataset.targets) if t == 1]\n",
    "idx2 = [i for i, t in enumerate(train_dataset.targets) if t == 2]\n",
    "\n",
    "idxs = idx1 + idx2\n",
    "train_size = len(idxs)\n",
    "\n",
    "train_loader2 = torch.utils.data.DataLoader(\n",
    "    train_dataset, sampler=torch.utils.data.SubsetRandomSampler(idxs)\n",
    ")"
   ]
  },
  {
   "cell_type": "code",
   "execution_count": 22,
   "metadata": {},
   "outputs": [
    {
     "data": {
      "image/png": "[encoded data removed]",
      "text/plain": [
       "<Figure size 864x864 with 8 Axes>"
      ]
     },
     "metadata": {},
     "output_type": "display_data"
    }
   ],
   "source": [
    "num_to_show = 8\n",
    "\n",
    "fig, axes = plt.subplots(1, num_to_show, figsize=(12, 12))\n",
    "\n",
    "for axis, (image, label) in zip(axes, train_loader2):\n",
    "    axis.imshow(image.squeeze(), cmap=\"Greys\")\n",
    "    axis.tick_params(left=False, bottom=False, labelleft=False, labelbottom=False)\n",
    "    axis.set_title(f\"Label: {label[0]}\")"
   ]
  },
  {
   "cell_type": "code",
   "execution_count": 23,
   "metadata": {},
   "outputs": [],
   "source": [
    "from time import time"
   ]
  },
  {
   "cell_type": "code",
   "execution_count": 25,
   "metadata": {},
   "outputs": [
    {
     "name": "stdout",
     "output_type": "stream",
     "text": [
      " 1/10, Cost=8950.1, Time=3.7s\n",
      " 2/10, Cost=6995.5, Time=3.6s\n",
      " 3/10, Cost=5772.6, Time=3.7s\n",
      " 4/10, Cost=4959.3, Time=3.6s\n",
      " 5/10, Cost=4385.1, Time=3.7s\n",
      " 6/10, Cost=3959.1, Time=4.0s\n",
      " 7/10, Cost=3630.1, Time=3.9s\n",
      " 8/10, Cost=3367.7, Time=3.7s\n",
      " 9/10, Cost=3153.2, Time=3.6s\n",
      "10/10, Cost=2974.0, Time=3.7s\n"
     ]
    }
   ],
   "source": [
    "# Optimization, binary cross-entropy loss (Log loss, aka logistic loss or cross-entropy loss)\n",
    "# defined as the negative log-likelihood of a logistic model that returns y_pred probabilities for its training data y_true\n",
    "\n",
    "# compare with: subtraction, MSE, abs\n",
    "\n",
    "def target_to_sigmoid(target):\n",
    "    new_target = torch.zeros_like(target)\n",
    "    new_target[target == 1] = 1\n",
    "    return new_target\n",
    "\n",
    "# Neuron parameters\n",
    "num_pixels = 28 * 28\n",
    "weights = torch.randn(num_pixels, 1) * 0.01\n",
    "bias = torch.zeros(1)\n",
    "\n",
    "num_epochs = 10\n",
    "learning_rate = 0.01\n",
    "\n",
    "for epoch in range(num_epochs):\n",
    "\n",
    "    cost = 0\n",
    "    weights_derivatives = torch.zeros_like(weights)\n",
    "    bias_derivative = torch.zeros_like(bias)\n",
    "\n",
    "    start = time()\n",
    "\n",
    "    for image, target in train_loader2:\n",
    "\n",
    "        image = image.view(num_pixels, 1)\n",
    "        target = target_to_sigmoid(target)\n",
    "\n",
    "        prediction = sigmoid(linear(weights, bias, image))\n",
    "\n",
    "        loss = target * torch.log(prediction) + (1 - target) * torch.log(1 - prediction)\n",
    "        cost -= loss\n",
    "\n",
    "        dz = prediction - target\n",
    "        weights_derivatives += image * dz\n",
    "        bias_derivative += dz.squeeze()\n",
    "\n",
    "    weights_derivatives /= len(train_loader2)\n",
    "    bias_derivative /= len(train_loader2)\n",
    "\n",
    "    weights -= learning_rate * weights_derivatives\n",
    "    bias -= learning_rate * bias_derivative\n",
    "\n",
    "    print(\n",
    "        f\"{epoch+1:>2}/{num_epochs}, Cost={cost[0][0]:0.1f}, Time={time()-start:0.1f}s\"\n",
    "    )"
   ]
  },
  {
   "cell_type": "code",
   "execution_count": 26,
   "metadata": {},
   "outputs": [],
   "source": [
    "train_loader2All = torch.utils.data.DataLoader(\n",
    "    train_dataset, sampler=torch.utils.data.SubsetRandomSampler(idxs), batch_size=train_size\n",
    ")"
   ]
  },
  {
   "cell_type": "code",
   "execution_count": 27,
   "metadata": {},
   "outputs": [
    {
     "name": "stdout",
     "output_type": "stream",
     "text": [
      " 1/10, Cost=8636.6, Time=1.5s\n",
      " 2/10, Cost=6813.9, Time=1.5s\n",
      " 3/10, Cost=5664.2, Time=1.5s\n",
      " 4/10, Cost=4891.3, Time=1.5s\n",
      " 5/10, Cost=4340.6, Time=1.5s\n",
      " 6/10, Cost=3929.1, Time=1.5s\n",
      " 7/10, Cost=3609.6, Time=1.5s\n",
      " 8/10, Cost=3353.8, Time=1.5s\n",
      " 9/10, Cost=3143.9, Time=1.5s\n",
      "10/10, Cost=2968.1, Time=1.5s\n"
     ]
    }
   ],
   "source": [
    "# Vectorize\n",
    "\n",
    "# Neuron parameters\n",
    "num_pixels = 28 * 28\n",
    "weights = torch.randn(num_pixels, 1) * 0.01\n",
    "bias = torch.zeros(1)\n",
    "\n",
    "num_epochs = 10\n",
    "learning_rate = 0.01\n",
    "\n",
    "for epoch in range(num_epochs):\n",
    "\n",
    "    weights_derivatives = torch.zeros_like(weights)\n",
    "    bias_derivative = torch.zeros_like(bias)\n",
    "\n",
    "    start = time()\n",
    "    \n",
    "    images, targets = next(iter(train_loader2All))\n",
    "#     print(len(images), images.shape, images.view(train_size, num_pixels))\n",
    "\n",
    "    images = images.view(train_size, num_pixels)\n",
    "    targets = target_to_sigmoid(targets)\n",
    "    \n",
    "    predictions = sigmoid(linear(weights, bias, images.T))\n",
    "#     print(predictions.shape, targets.shape)\n",
    "\n",
    "    loss = targets * torch.log(predictions) + (1 - targets) * torch.log(1 - predictions)\n",
    "    cost = -loss.sum()\n",
    "\n",
    "    dZ = predictions - targets\n",
    "    weights_derivatives = (1/train_size) * (dZ @ images)\n",
    "    bias_derivative = (1/train_size) * dZ.sum()\n",
    "    \n",
    "    weights -= learning_rate * weights_derivatives.T\n",
    "    bias -= learning_rate * bias_derivative\n",
    "    \n",
    "    print(\n",
    "        f\"{epoch+1:>2}/{num_epochs}, Cost={cost:0.1f}, Time={time()-start:0.1f}s\"\n",
    "    )"
   ]
  },
  {
   "cell_type": "code",
   "execution_count": 28,
   "metadata": {},
   "outputs": [
    {
     "name": "stdout",
     "output_type": "stream",
     "text": [
      "2167\n"
     ]
    }
   ],
   "source": [
    "valid_dataset = torchvision.datasets.MNIST(\n",
    "    root=data_path, train=False, download=True, transform=mnist_transforms\n",
    ")\n",
    "\n",
    "# Get down to two classes (let them pick)\n",
    "idx1 = [i for i, t in enumerate(valid_dataset.targets) if t == 1]\n",
    "idx2 = [i for i, t in enumerate(valid_dataset.targets) if t == 2]\n",
    "\n",
    "valid_idxs = idx1 + idx2\n",
    "valid_size = len(valid_idxs)\n",
    "\n",
    "print(valid_size)\n",
    "\n",
    "valid_loader2All = torch.utils.data.DataLoader(\n",
    "    valid_dataset,\n",
    "    sampler=torch.utils.data.SubsetRandomSampler(valid_idxs),\n",
    "    batch_size=valid_size,\n",
    ")"
   ]
  },
  {
   "cell_type": "code",
   "execution_count": 39,
   "metadata": {},
   "outputs": [
    {
     "name": "stdout",
     "output_type": "stream",
     "text": [
      "Accuracy=0.46\n",
      " 1/10, Cost=9006.4, Accuracy=0.90, Time=1.8s\n",
      " 2/10, Cost=7047.4, Accuracy=0.93, Time=1.7s\n",
      " 3/10, Cost=5823.3, Accuracy=0.94, Time=1.8s\n",
      " 4/10, Cost=5008.8, Accuracy=0.94, Time=1.7s\n",
      " 5/10, Cost=4433.6, Accuracy=0.94, Time=1.7s\n",
      " 6/10, Cost=4006.4, Accuracy=0.95, Time=1.7s\n",
      " 7/10, Cost=3676.2, Accuracy=0.95, Time=1.7s\n",
      " 8/10, Cost=3412.8, Accuracy=0.95, Time=1.7s\n",
      " 9/10, Cost=3197.1, Accuracy=0.95, Time=1.7s\n",
      "10/10, Cost=3016.9, Accuracy=0.95, Time=1.7s\n"
     ]
    }
   ],
   "source": [
    "# Add validation metric\n",
    "\n",
    "# Neuron parameters\n",
    "num_pixels = 28 * 28\n",
    "weights = torch.randn(num_pixels, 1) * 0.01\n",
    "bias = torch.zeros(1)\n",
    "\n",
    "num_epochs = 10\n",
    "learning_rate = 0.01\n",
    "\n",
    "# Validate with accuracy\n",
    "valid_images, valid_targets = next(iter(valid_loader2All))\n",
    "valid_images = valid_images.view(valid_size, num_pixels)\n",
    "valid_targets = target_to_sigmoid(valid_targets)\n",
    "\n",
    "valid_predictions = sigmoid(linear(weights, bias, valid_images.T))\n",
    "\n",
    "accuracy = 1 - (torch.round(valid_predictions) - valid_targets).abs().sum()/valid_size\n",
    "\n",
    "print(f\"Accuracy={accuracy:.2f}\")\n",
    "\n",
    "for epoch in range(num_epochs):\n",
    "\n",
    "    weights_derivatives = torch.zeros_like(weights)\n",
    "    bias_derivative = torch.zeros_like(bias)\n",
    "\n",
    "    start = time()\n",
    "\n",
    "    images, targets = next(iter(train_loader2All))\n",
    "    images = images.view(train_size, num_pixels)\n",
    "    targets = target_to_sigmoid(targets)\n",
    "\n",
    "    predictions = sigmoid(linear(weights, bias, images.T))\n",
    "\n",
    "    loss = targets * torch.log(predictions) + (1 - targets) * torch.log(1 - predictions)\n",
    "    cost = -loss.sum()\n",
    "\n",
    "    dZ = predictions - targets\n",
    "    weights_derivatives = (1 / train_size) * (dZ @ images)\n",
    "    bias_derivative = (1 / train_size) * dZ.sum()\n",
    "\n",
    "    weights -= learning_rate * weights_derivatives.T\n",
    "    bias -= learning_rate * bias_derivative\n",
    "\n",
    "    # Validate with accuracy\n",
    "    valid_images, valid_targets = next(iter(valid_loader2All))\n",
    "    valid_images = valid_images.view(valid_size, num_pixels)\n",
    "    valid_targets = target_to_sigmoid(valid_targets)\n",
    "\n",
    "    valid_predictions = sigmoid(linear(weights, bias, valid_images.T))\n",
    "\n",
    "    accuracy = 1 - (torch.round(valid_predictions) - valid_targets).abs().sum()/valid_size\n",
    "    \n",
    "    print(\n",
    "        f\"{epoch+1:>2}/{num_epochs}, Cost={cost:0.1f}, Accuracy={accuracy:.2f}, Time={time()-start:0.1f}s\"\n",
    "    )"
   ]
  },
  {
   "cell_type": "code",
   "execution_count": 30,
   "metadata": {},
   "outputs": [
    {
     "data": {
      "text/plain": [
       "torch.Size([1, 2167])"
      ]
     },
     "execution_count": 30,
     "metadata": {},
     "output_type": "execute_result"
    }
   ],
   "source": [
    "valid_predictions.shape"
   ]
  },
  {
   "cell_type": "code",
   "execution_count": 31,
   "metadata": {},
   "outputs": [
    {
     "data": {
      "text/plain": [
       "torch.Size([2167])"
      ]
     },
     "execution_count": 31,
     "metadata": {},
     "output_type": "execute_result"
    }
   ],
   "source": [
    "valid_targets.shape"
   ]
  },
  {
   "cell_type": "code",
   "execution_count": 32,
   "metadata": {},
   "outputs": [
    {
     "data": {
      "text/plain": [
       "tensor([[0.1611, 0.8716, 0.0410,  ..., 0.6587, 0.3552, 0.5439]])"
      ]
     },
     "execution_count": 32,
     "metadata": {},
     "output_type": "execute_result"
    }
   ],
   "source": [
    "valid_predictions[:10]"
   ]
  },
  {
   "cell_type": "code",
   "execution_count": 33,
   "metadata": {},
   "outputs": [
    {
     "data": {
      "text/plain": [
       "tensor([[0., 1., 0.,  ..., 1., 0., 1.]])"
      ]
     },
     "execution_count": 33,
     "metadata": {},
     "output_type": "execute_result"
    }
   ],
   "source": [
    "torch.round(valid_predictions)"
   ]
  },
  {
   "cell_type": "code",
   "execution_count": 34,
   "metadata": {},
   "outputs": [
    {
     "data": {
      "text/plain": [
       "tensor(56.)"
      ]
     },
     "execution_count": 34,
     "metadata": {},
     "output_type": "execute_result"
    }
   ],
   "source": [
    "(torch.round(valid_predictions) - valid_targets).sum()"
   ]
  },
  {
   "cell_type": "code",
   "execution_count": 35,
   "metadata": {},
   "outputs": [
    {
     "data": {
      "text/plain": [
       "tensor(0.0258)"
      ]
     },
     "execution_count": 35,
     "metadata": {},
     "output_type": "execute_result"
    }
   ],
   "source": [
    "(torch.round(valid_predictions) - valid_targets).sum()/valid_size"
   ]
  },
  {
   "cell_type": "code",
   "execution_count": 36,
   "metadata": {},
   "outputs": [
    {
     "data": {
      "text/plain": [
       "tensor(0.9742)"
      ]
     },
     "execution_count": 36,
     "metadata": {},
     "output_type": "execute_result"
    }
   ],
   "source": [
    "1 - (torch.round(valid_predictions) - valid_targets).sum()/valid_size"
   ]
  },
  {
   "cell_type": "code",
   "execution_count": 37,
   "metadata": {},
   "outputs": [],
   "source": [
    "x = 1 - (torch.round(valid_predictions) - valid_targets).sum()/valid_size"
   ]
  },
  {
   "cell_type": "code",
   "execution_count": 38,
   "metadata": {},
   "outputs": [
    {
     "data": {
      "text/plain": [
       "'Accuracy=0.97'"
      ]
     },
     "execution_count": 38,
     "metadata": {},
     "output_type": "execute_result"
    }
   ],
   "source": [
    "f\"Accuracy={x:.2f}\""
   ]
  },
  {
   "cell_type": "code",
   "execution_count": null,
   "metadata": {},
   "outputs": [],
   "source": []
  }
 ],
 "metadata": {
  "kernelspec": {
   "display_name": "Python 3",
   "language": "python",
   "name": "python3"
  },
  "language_info": {
   "codemirror_mode": {
    "name": "ipython",
    "version": 3
   },
   "file_extension": ".py",
   "mimetype": "text/x-python",
   "name": "python",
   "nbconvert_exporter": "python",
   "pygments_lexer": "ipython3",
   "version": "3.8.5"
  }
 },
 "nbformat": 4,
 "nbformat_minor": 2
}
