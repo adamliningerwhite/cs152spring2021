{
 "cells": [
  {
   "cell_type": "code",
   "execution_count": 1,
   "metadata": {},
   "outputs": [],
   "source": [
    "import torch"
   ]
  },
  {
   "cell_type": "code",
   "execution_count": 2,
   "metadata": {},
   "outputs": [
    {
     "data": {
      "text/plain": [
       "tensor([0.7684, 0.4489, 0.8820, 0.7672, 0.3096])"
      ]
     },
     "execution_count": 2,
     "metadata": {},
     "output_type": "execute_result"
    }
   ],
   "source": [
    "torch.rand(5)"
   ]
  },
  {
   "cell_type": "code",
   "execution_count": 3,
   "metadata": {},
   "outputs": [
    {
     "data": {
      "text/plain": [
       "torch.Size([5])"
      ]
     },
     "execution_count": 3,
     "metadata": {},
     "output_type": "execute_result"
    }
   ],
   "source": [
    "torch.rand(5).shape"
   ]
  },
  {
   "cell_type": "code",
   "execution_count": 4,
   "metadata": {
    "scrolled": true
   },
   "outputs": [
    {
     "data": {
      "text/plain": [
       "tensor([[3.5952e-01, 1.9671e-01, 7.5876e-01, 8.4085e-01, 6.8048e-01, 4.4433e-01,\n",
       "         4.1450e-01, 2.9482e-01, 4.9294e-01, 2.6909e-01, 6.7436e-01, 1.9821e-01,\n",
       "         6.6675e-01, 2.3000e-01, 8.8855e-01, 8.0942e-01, 8.7495e-01, 7.2404e-01,\n",
       "         8.5380e-01, 5.9727e-01, 1.1477e-01, 8.0398e-01, 6.4908e-02, 1.1403e-01,\n",
       "         6.6186e-01],\n",
       "        [9.2108e-01, 8.5812e-01, 1.7758e-02, 5.0723e-01, 3.8484e-01, 3.5406e-01,\n",
       "         3.8256e-01, 3.9111e-01, 2.8697e-01, 6.6854e-01, 1.9234e-01, 1.3078e-01,\n",
       "         3.3974e-01, 9.5889e-01, 5.1430e-01, 5.1588e-02, 2.7895e-01, 2.1527e-02,\n",
       "         2.0317e-01, 6.1938e-01, 9.6142e-01, 6.2381e-01, 8.3206e-01, 9.5985e-01,\n",
       "         2.9016e-01],\n",
       "        [3.2482e-01, 7.7155e-01, 4.8110e-01, 9.0948e-01, 3.0205e-01, 5.6147e-01,\n",
       "         9.1968e-01, 6.5180e-01, 3.2564e-01, 9.6898e-01, 6.6400e-01, 4.5264e-04,\n",
       "         9.3160e-01, 2.2228e-01, 6.5925e-01, 2.6954e-01, 9.1829e-01, 7.4058e-01,\n",
       "         9.7730e-01, 7.1756e-01, 8.2264e-01, 4.9456e-01, 9.1906e-01, 7.3638e-01,\n",
       "         9.9788e-01],\n",
       "        [8.5033e-01, 3.9664e-01, 5.1733e-01, 8.0438e-01, 2.8230e-01, 1.0361e-01,\n",
       "         1.6345e-02, 7.4631e-01, 1.0005e-01, 9.8386e-01, 7.8990e-01, 6.3547e-01,\n",
       "         6.3547e-01, 3.9321e-01, 3.4963e-01, 4.1263e-01, 8.1254e-01, 3.4075e-01,\n",
       "         5.0041e-01, 7.9886e-01, 9.5462e-01, 4.5005e-01, 9.3648e-01, 8.5628e-01,\n",
       "         2.1226e-01],\n",
       "        [6.3637e-01, 4.6303e-01, 7.7614e-01, 7.8924e-01, 3.6704e-01, 9.9811e-02,\n",
       "         5.8759e-01, 6.3410e-01, 2.4553e-01, 1.1789e-01, 6.6948e-01, 5.7891e-01,\n",
       "         3.3803e-01, 5.4283e-01, 8.8717e-01, 9.2455e-01, 4.6692e-01, 1.1580e-01,\n",
       "         2.4452e-01, 7.1901e-01, 1.7799e-01, 2.0062e-01, 6.9147e-01, 7.1598e-02,\n",
       "         6.8271e-01]])"
      ]
     },
     "execution_count": 4,
     "metadata": {},
     "output_type": "execute_result"
    }
   ],
   "source": [
    "torch.rand(5, 25)"
   ]
  },
  {
   "cell_type": "code",
   "execution_count": 5,
   "metadata": {},
   "outputs": [
    {
     "data": {
      "text/plain": [
       "torch.Size([5, 25])"
      ]
     },
     "execution_count": 5,
     "metadata": {},
     "output_type": "execute_result"
    }
   ],
   "source": [
    "torch.rand(5, 25).shape"
   ]
  },
  {
   "cell_type": "code",
   "execution_count": 6,
   "metadata": {},
   "outputs": [],
   "source": [
    "X = torch.rand(5, 12)\n",
    "Y = torch.rand(12, 16)"
   ]
  },
  {
   "cell_type": "code",
   "execution_count": 7,
   "metadata": {},
   "outputs": [
    {
     "data": {
      "text/plain": [
       "(torch.Size([5, 12]), torch.Size([12, 16]))"
      ]
     },
     "execution_count": 7,
     "metadata": {},
     "output_type": "execute_result"
    }
   ],
   "source": [
    "X.shape, Y.shape"
   ]
  },
  {
   "cell_type": "code",
   "execution_count": 8,
   "metadata": {},
   "outputs": [
    {
     "data": {
      "text/plain": [
       "tensor([[0.2796, 0.6364, 0.2965, 0.4414, 0.7139, 0.4839, 0.8024, 0.8862, 0.0674,\n",
       "         0.6470, 0.4817, 0.1013],\n",
       "        [0.8146, 0.3342, 0.2825, 0.5267, 0.0343, 0.6393, 0.5057, 0.8604, 0.9938,\n",
       "         0.7450, 0.9635, 0.3849],\n",
       "        [0.3983, 0.7628, 0.9963, 0.3068, 0.1521, 0.3233, 0.3207, 0.4285, 0.8875,\n",
       "         0.4018, 0.7367, 0.6125],\n",
       "        [0.5135, 0.3117, 0.5124, 0.4743, 0.5837, 0.6500, 0.0411, 0.1154, 0.8523,\n",
       "         0.7164, 0.3102, 0.0125],\n",
       "        [0.0415, 0.8707, 0.5666, 0.5583, 0.9849, 0.1221, 0.8068, 0.9297, 0.4765,\n",
       "         0.2622, 0.7873, 0.6924]])"
      ]
     },
     "execution_count": 8,
     "metadata": {},
     "output_type": "execute_result"
    }
   ],
   "source": [
    "X"
   ]
  },
  {
   "cell_type": "code",
   "execution_count": 9,
   "metadata": {},
   "outputs": [
    {
     "data": {
      "text/plain": [
       "tensor([[2.8444, 2.5923, 2.7219, 3.1449, 2.7779, 2.7127, 3.4077, 2.1226, 3.4184,\n",
       "         2.6650, 2.7655, 2.0194, 2.4451, 3.2193, 4.0078, 3.3961],\n",
       "        [2.5692, 2.8743, 3.2083, 4.2297, 3.2431, 3.6667, 4.2764, 2.7941, 3.8200,\n",
       "         2.7587, 3.6496, 3.0727, 2.9597, 3.9568, 4.2055, 4.8872],\n",
       "        [3.0359, 2.4469, 2.6293, 3.8480, 2.7932, 3.0806, 3.8693, 2.7581, 3.5701,\n",
       "         2.8368, 3.7091, 2.8830, 2.9738, 3.3188, 3.4684, 4.0439],\n",
       "        [2.1746, 2.1568, 2.1528, 3.1923, 2.9007, 2.5037, 2.6796, 1.9993, 2.4999,\n",
       "         2.2279, 2.5716, 1.9125, 2.2937, 2.6262, 2.8670, 3.3040],\n",
       "        [3.7364, 2.5840, 2.8411, 3.8532, 3.0183, 3.6356, 4.3835, 2.7053, 4.7247,\n",
       "         3.3154, 3.8972, 2.6844, 3.0237, 3.8730, 4.2194, 3.9713]])"
      ]
     },
     "execution_count": 9,
     "metadata": {},
     "output_type": "execute_result"
    }
   ],
   "source": [
    "X @ Y"
   ]
  },
  {
   "cell_type": "code",
   "execution_count": 10,
   "metadata": {},
   "outputs": [],
   "source": [
    "Z = X @ Y"
   ]
  },
  {
   "cell_type": "code",
   "execution_count": 11,
   "metadata": {},
   "outputs": [
    {
     "data": {
      "text/plain": [
       "(torch.Size([5, 12]), torch.Size([12, 16]))"
      ]
     },
     "execution_count": 11,
     "metadata": {},
     "output_type": "execute_result"
    }
   ],
   "source": [
    "X.shape, Y.shape"
   ]
  },
  {
   "cell_type": "code",
   "execution_count": 12,
   "metadata": {},
   "outputs": [
    {
     "data": {
      "text/plain": [
       "torch.Size([5, 16])"
      ]
     },
     "execution_count": 12,
     "metadata": {},
     "output_type": "execute_result"
    }
   ],
   "source": [
    "Z.shape"
   ]
  },
  {
   "cell_type": "code",
   "execution_count": 13,
   "metadata": {
    "scrolled": true
   },
   "outputs": [
    {
     "ename": "RuntimeError",
     "evalue": "mat1 and mat2 shapes cannot be multiplied (12x16 and 5x16)",
     "output_type": "error",
     "traceback": [
      "\u001b[0;31m---------------------------------------------------------------------------\u001b[0m",
      "\u001b[0;31mRuntimeError\u001b[0m                              Traceback (most recent call last)",
      "\u001b[0;32m<ipython-input-13-e8e80d0cad29>\u001b[0m in \u001b[0;36m<module>\u001b[0;34m\u001b[0m\n\u001b[0;32m----> 1\u001b[0;31m \u001b[0mY\u001b[0m \u001b[0;34m@\u001b[0m \u001b[0mZ\u001b[0m\u001b[0;34m\u001b[0m\u001b[0;34m\u001b[0m\u001b[0m\n\u001b[0m",
      "\u001b[0;31mRuntimeError\u001b[0m: mat1 and mat2 shapes cannot be multiplied (12x16 and 5x16)"
     ]
    }
   ],
   "source": [
    "Y @ Z"
   ]
  },
  {
   "cell_type": "code",
   "execution_count": 14,
   "metadata": {},
   "outputs": [],
   "source": [
    "import torchvision"
   ]
  },
  {
   "cell_type": "code",
   "execution_count": 22,
   "metadata": {},
   "outputs": [],
   "source": [
    "data_path = \"../data/\"\n",
    "\n",
    "mnist_transforms = torchvision.transforms.Compose(\n",
    "    [\n",
    "        torchvision.transforms.ToTensor(),\n",
    "        torchvision.transforms.Normalize((0.1307,), (0.3081,)),\n",
    "    ]\n",
    ")\n",
    "\n",
    "train_dataset = torchvision.datasets.MNIST(\n",
    "    root=data_path, download=True, train=True, transform=mnist_transforms\n",
    ")"
   ]
  },
  {
   "cell_type": "code",
   "execution_count": 29,
   "metadata": {},
   "outputs": [],
   "source": [
    "train_loader = torch.utils.data.DataLoader(train_dataset)"
   ]
  },
  {
   "cell_type": "code",
   "execution_count": 30,
   "metadata": {},
   "outputs": [
    {
     "name": "stdout",
     "output_type": "stream",
     "text": [
      "torch.Size([1, 1, 28, 28]) tensor([5])\n"
     ]
    }
   ],
   "source": [
    "for image, target in train_loader:\n",
    "    print(image.shape, target)\n",
    "    break"
   ]
  },
  {
   "cell_type": "code",
   "execution_count": 31,
   "metadata": {},
   "outputs": [],
   "source": [
    "import matplotlib.pyplot as plt"
   ]
  },
  {
   "cell_type": "code",
   "execution_count": 34,
   "metadata": {},
   "outputs": [
    {
     "data": {
      "image/png": "[encoded data removed]",
      "text/plain": [
       "<Figure size 864x864 with 8 Axes>"
      ]
     },
     "metadata": {},
     "output_type": "display_data"
    }
   ],
   "source": [
    "num_to_show = 8\n",
    "\n",
    "fig, axes = plt.subplots(1, num_to_show, figsize=(12, 12))\n",
    "\n",
    "for axis, (image, label) in zip(axes, train_loader):\n",
    "    axis.imshow(image.squeeze(), cmap=\"Greys\")\n",
    "    axis.tick_params(left=False, bottom=False, labelleft=False, labelbottom=False)\n",
    "    axis.set_title(f\"Label: {label[0]}\")"
   ]
  },
  {
   "cell_type": "code",
   "execution_count": 35,
   "metadata": {},
   "outputs": [],
   "source": [
    "num_pixels = 28 * 28"
   ]
  },
  {
   "cell_type": "code",
   "execution_count": 53,
   "metadata": {},
   "outputs": [],
   "source": [
    "# Neuron parameters\n",
    "weights = torch.zeros(num_pixels, 1) * 0.01\n",
    "bias = torch.zeros(1)"
   ]
  },
  {
   "cell_type": "code",
   "execution_count": 54,
   "metadata": {},
   "outputs": [
    {
     "data": {
      "text/plain": [
       "(torch.Size([784, 1]), torch.Size([1]))"
      ]
     },
     "execution_count": 54,
     "metadata": {},
     "output_type": "execute_result"
    }
   ],
   "source": [
    "weights.shape, bias.shape"
   ]
  },
  {
   "cell_type": "code",
   "execution_count": 55,
   "metadata": {},
   "outputs": [
    {
     "data": {
      "text/plain": [
       "torch.Size([1, 1, 28, 28])"
      ]
     },
     "execution_count": 55,
     "metadata": {},
     "output_type": "execute_result"
    }
   ],
   "source": [
    "image.shape"
   ]
  },
  {
   "cell_type": "code",
   "execution_count": 56,
   "metadata": {},
   "outputs": [
    {
     "data": {
      "text/plain": [
       "tensor([[0.]])"
      ]
     },
     "execution_count": 56,
     "metadata": {},
     "output_type": "execute_result"
    }
   ],
   "source": [
    "weights.T @ image.view(num_pixels, 1) + bias"
   ]
  },
  {
   "cell_type": "code",
   "execution_count": 57,
   "metadata": {},
   "outputs": [],
   "source": [
    "def sigmoid(z):\n",
    "    return 1 / (1 + torch.exp(-z))"
   ]
  },
  {
   "cell_type": "code",
   "execution_count": 58,
   "metadata": {},
   "outputs": [
    {
     "data": {
      "text/plain": [
       "tensor([[0.5000]])"
      ]
     },
     "execution_count": 58,
     "metadata": {},
     "output_type": "execute_result"
    }
   ],
   "source": [
    "# This is a neuron\n",
    "sigmoid(weights.T @ image.view(num_pixels, 1) + bias)"
   ]
  },
  {
   "cell_type": "code",
   "execution_count": 68,
   "metadata": {},
   "outputs": [],
   "source": [
    "# Get down to two classes (let them pick)\n",
    "\n",
    "class1 = 7\n",
    "class2 = 1\n",
    "\n",
    "idx1 = [i for i, t in enumerate(train_dataset.targets) if t == class1]\n",
    "idx2 = [i for i, t in enumerate(train_dataset.targets) if t == class2]\n",
    "\n",
    "idxs = idx1 + idx2\n",
    "train_size = len(idxs)\n",
    "\n",
    "train_loader2 = torch.utils.data.DataLoader(\n",
    "    train_dataset, sampler=torch.utils.data.SubsetRandomSampler(idxs)\n",
    ")\n"
   ]
  },
  {
   "cell_type": "code",
   "execution_count": 69,
   "metadata": {},
   "outputs": [
    {
     "data": {
      "text/plain": [
       "13007"
      ]
     },
     "execution_count": 69,
     "metadata": {},
     "output_type": "execute_result"
    }
   ],
   "source": [
    "train_size"
   ]
  },
  {
   "cell_type": "code",
   "execution_count": 70,
   "metadata": {},
   "outputs": [
    {
     "data": {
      "image/png": "[encoded data removed]",
      "text/plain": [
       "<Figure size 864x864 with 8 Axes>"
      ]
     },
     "metadata": {},
     "output_type": "display_data"
    }
   ],
   "source": [
    "num_to_show = 8\n",
    "\n",
    "fig, axes = plt.subplots(1, num_to_show, figsize=(12, 12))\n",
    "\n",
    "for axis, (image, label) in zip(axes, train_loader2):\n",
    "    axis.imshow(image.squeeze(), cmap=\"Greys\")\n",
    "    axis.tick_params(left=False, bottom=False, labelleft=False, labelbottom=False)\n",
    "    axis.set_title(f\"Label: {label[0]}\")"
   ]
  },
  {
   "cell_type": "code",
   "execution_count": 73,
   "metadata": {},
   "outputs": [],
   "source": [
    "from time import time"
   ]
  },
  {
   "cell_type": "code",
   "execution_count": 74,
   "metadata": {},
   "outputs": [],
   "source": [
    "def target_to_sigmoid(target):\n",
    "    new_target = torch.zeros_like(target)\n",
    "    new_target[target == class1] = 1\n",
    "    return new_target"
   ]
  },
  {
   "cell_type": "code",
   "execution_count": 76,
   "metadata": {},
   "outputs": [
    {
     "name": "stdout",
     "output_type": "stream",
     "text": [
      " 1/10, Cost=8503.3, Time=4.7s\n",
      " 2/10, Cost=6499.8, Time=4.7s\n",
      " 3/10, Cost=5298.7, Time=4.6s\n",
      " 4/10, Cost=4509.7, Time=4.6s\n",
      " 5/10, Cost=3954.4, Time=4.8s\n",
      " 6/10, Cost=3542.8, Time=4.6s\n",
      " 7/10, Cost=3225.4, Time=4.5s\n",
      " 8/10, Cost=2972.9, Time=4.6s\n",
      " 9/10, Cost=2766.9, Time=4.8s\n",
      "10/10, Cost=2595.5, Time=4.8s\n"
     ]
    }
   ],
   "source": [
    "# Neuron parameters\n",
    "num_pixels = 28 * 28\n",
    "weights = torch.randn(num_pixels, 1) * 0.01\n",
    "bias = torch.zeros(1)\n",
    "\n",
    "# Hyperparameters\n",
    "num_epochs = 10\n",
    "learning_rate = 0.01\n",
    "\n",
    "\n",
    "# Batch gradient descent\n",
    "for epoch in range(num_epochs):\n",
    "\n",
    "    cost = 0\n",
    "    weights_derivatives = torch.zeros_like(weights)\n",
    "    bias_derivative = torch.zeros_like(bias)\n",
    "\n",
    "    start = time()\n",
    "\n",
    "    for image, target in train_loader2:\n",
    "\n",
    "        image = image.view(num_pixels, 1)\n",
    "        target = target_to_sigmoid(target)\n",
    "\n",
    "        prediction = sigmoid(weights.T @ image.view(num_pixels, 1) + bias)\n",
    "\n",
    "        loss = target * torch.log(prediction) + (1 - target) * torch.log(1 - prediction)\n",
    "        cost -= loss\n",
    "\n",
    "        dz = prediction - target\n",
    "        weights_derivatives += image * dz\n",
    "        bias_derivative += dz.squeeze()\n",
    "\n",
    "    weights_derivatives /= train_size\n",
    "    bias_derivative /= train_size\n",
    "\n",
    "    weights -= learning_rate * weights_derivatives\n",
    "    bias -= learning_rate * bias_derivative\n",
    "\n",
    "    print(\n",
    "        f\"{epoch+1:>2}/{num_epochs}, Cost={cost[0][0]:0.1f}, Time={time()-start:0.1f}s\"\n",
    "    )"
   ]
  },
  {
   "cell_type": "code",
   "execution_count": null,
   "metadata": {},
   "outputs": [],
   "source": []
  }
 ],
 "metadata": {
  "kernelspec": {
   "display_name": "Python 3",
   "language": "python",
   "name": "python3"
  },
  "language_info": {
   "codemirror_mode": {
    "name": "ipython",
    "version": 3
   },
   "file_extension": ".py",
   "mimetype": "text/x-python",
   "name": "python",
   "nbconvert_exporter": "python",
   "pygments_lexer": "ipython3",
   "version": "3.8.5"
  }
 },
 "nbformat": 4,
 "nbformat_minor": 4
}
